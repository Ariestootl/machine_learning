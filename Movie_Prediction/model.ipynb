{
 "cells": [
  {
   "cell_type": "markdown",
   "metadata": {},
   "source": [
    "# Import Modules"
   ]
  },
  {
   "cell_type": "code",
   "execution_count": 5,
   "metadata": {},
   "outputs": [],
   "source": [
    "import pandas as pd\n",
    "import numpy as np\n",
    "import matplotlib.pyplot as plt\n",
    "import seaborn as sns\n",
    "import torch \n",
    "import torch.nn as nn\n",
    "import torchvision\n",
    "import torchvision.transforms as transforms\n",
    "from torch.utils.data import Dataset, DataLoader\n",
    "from sklearn.model_selection import train_test_split\n",
    "from sklearn.preprocessing import StandardScaler, OneHotEncoder"
   ]
  },
  {
   "cell_type": "markdown",
   "metadata": {},
   "source": [
    "# Import Dataset"
   ]
  },
  {
   "cell_type": "code",
   "execution_count": 82,
   "metadata": {},
   "outputs": [],
   "source": [
    "df = pd.read_csv(\"movies_new.csv\")\n",
    "df = df.sort_values(by=\"startYear\")"
   ]
  },
  {
   "cell_type": "markdown",
   "metadata": {},
   "source": [
    "## Data Preprocessing "
   ]
  },
  {
   "cell_type": "code",
   "execution_count": null,
   "metadata": {},
   "outputs": [
    {
     "ename": "SyntaxError",
     "evalue": "invalid syntax (1986502979.py, line 8)",
     "output_type": "error",
     "traceback": [
      "\u001b[0;36m  Cell \u001b[0;32mIn[83], line 8\u001b[0;36m\u001b[0m\n\u001b[0;31m    y = df['HitScore'].reshape(-,1,1).to_numpy()\u001b[0m\n\u001b[0m                                ^\u001b[0m\n\u001b[0;31mSyntaxError\u001b[0m\u001b[0;31m:\u001b[0m invalid syntax\n"
     ]
    }
   ],
   "source": [
    "df['numVotes_log'] = np.log1p(df['numVotes'])\n",
    "numeric_columns = ['averageRating', 'HitScore', 'numVotes', 'numVotes_log', 'runtimeMinutes', 'startYear']\n",
    "df[numeric_columns] = df[numeric_columns].apply(pd.to_numeric, errors='coerce')\n",
    "df.drop(columns=[\"originalTitle\"], inplace=True)\n",
    "\n",
    "# Define features and target\n",
    "X= df[['averageRating', 'HitScore', 'numVotes_log', 'runtimeMinutes']].to_numpy()\n",
    "y = df['HitScore'].reshape(-1,1).to_numpy()\n",
    "\n",
    "# Split data into training (80%) and temp (20%)\n",
    "X_train, X_temp, y_train, y_temp = train_test_split(X, y, test_size=0.2, random_state=42)\n",
    "\n",
    "# Further split temp (20%) into validation (10%) and test (10%)\n",
    "X_val, X_test, y_val, y_test = train_test_split(X_temp, y_temp, test_size=0.5, random_state=42)\n",
    "\n",
    "print(f\"{X_train.shape[0] + X_val.shape[0] + X_test.shape[0] == df.shape[0]}\")"
   ]
  },
  {
   "cell_type": "markdown",
   "metadata": {},
   "source": [
    "### Normalize the dataset"
   ]
  },
  {
   "cell_type": "code",
   "execution_count": 77,
   "metadata": {},
   "outputs": [],
   "source": [
    "scalerX = StandardScaler()\n",
    "X_train_scaled = scalerX.fit_transform(X_train)  # Fit on training set\n",
    "X_test_scaled = scalerX.transform(X_test)\n",
    "X_val_scaled = scalerX.transform(X_val)  # Apply on test set\n",
    "\n",
    "\n",
    "scalerY = StandardScaler()\n",
    "y_train_scaled = scalerY.fit_transform(y_train.reshape(-1, 1))  # Fit on training set\n",
    "y_test_scaled = scalerY.transform(y_test.reshape(-1, 1))  # Apply on test set\n",
    "y_val_scaled = scalerY.transform(y_val.reshape(-1, 1))  # Apply on validation test set"
   ]
  },
  {
   "cell_type": "markdown",
   "metadata": {},
   "source": [
    "### Frame as a Time Series problem\n",
    "* Convert the data into a sequential type"
   ]
  },
  {
   "cell_type": "code",
   "execution_count": 78,
   "metadata": {},
   "outputs": [
    {
     "name": "stdout",
     "output_type": "stream",
     "text": [
      "Train shape: (159671, 5, 4)\n",
      "Val shape: (19954, 5, 4)\n",
      "Test shape: (19955, 5, 4)\n"
     ]
    }
   ],
   "source": [
    "# Define time step (e.g., 5 years)\n",
    "TIME_STEP = 5  \n",
    "\n",
    "def create_sequences(X, y, time_step):\n",
    "    Xs, ys = [], []\n",
    "    for i in range(len(X) - time_step):\n",
    "        Xs.append(X[i:i+time_step])  # Past 5 years\n",
    "        ys.append(y[i+time_step])    # Target is the next year\n",
    "    return np.array(Xs), np.array(ys)\n",
    "\n",
    "# Convert datasets into 3D shape (samples, time steps, features)\n",
    "X_train_seq, y_train_seq = create_sequences(X_train_scaled, y_train, TIME_STEP)\n",
    "X_val_seq, y_val_seq = create_sequences(X_val_scaled, y_val, TIME_STEP)\n",
    "X_test_seq, y_test_seq = create_sequences(X_test_scaled, y_test, TIME_STEP)\n",
    "\n",
    "# Check shapes\n",
    "print(\"Train shape:\", X_train_seq.shape)  # (samples, time_steps, features)\n",
    "print(\"Val shape:\", X_val_seq.shape)\n",
    "print(\"Test shape:\", X_test_seq.shape)"
   ]
  },
  {
   "cell_type": "markdown",
   "metadata": {},
   "source": [
    "### Convert to Tensors"
   ]
  },
  {
   "cell_type": "code",
   "execution_count": 79,
   "metadata": {},
   "outputs": [
    {
     "name": "stdout",
     "output_type": "stream",
     "text": [
      "torch.Size([159671, 5, 4]) torch.Size([159671])\n",
      "torch.Size([19954, 5, 4]) torch.Size([19954])\n",
      "torch.Size([19955, 5, 4]) torch.Size([19955])\n"
     ]
    }
   ],
   "source": [
    "# Convert to PyTorch tensors\n",
    "X_train_tensor = torch.tensor(X_train_seq, dtype=torch.float32)\n",
    "X_val_tensor = torch.tensor(X_val_seq, dtype=torch.float32)\n",
    "X_test_tensor = torch.tensor(X_test_seq, dtype=torch.float32)\n",
    "\n",
    "y_train_tensor = torch.tensor(y_train_seq, dtype=torch.float32)\n",
    "y_val_tensor = torch.tensor(y_val_seq, dtype=torch.float32)\n",
    "y_test_tensor = torch.tensor(y_test_seq, dtype=torch.float32)\n",
    "\n",
    "# Check shapes\n",
    "print(X_train_tensor.shape, y_train_tensor.shape)\n",
    "print(X_val_tensor.shape, y_val_tensor.shape)\n",
    "print(X_test_tensor.shape, y_test_tensor.shape)"
   ]
  },
  {
   "cell_type": "markdown",
   "metadata": {},
   "source": [
    "# Optimizer"
   ]
  },
  {
   "cell_type": "code",
   "execution_count": null,
   "metadata": {},
   "outputs": [],
   "source": []
  }
 ],
 "metadata": {
  "kernelspec": {
   "display_name": "Aries",
   "language": "python",
   "name": "python3"
  },
  "language_info": {
   "codemirror_mode": {
    "name": "ipython",
    "version": 3
   },
   "file_extension": ".py",
   "mimetype": "text/x-python",
   "name": "python",
   "nbconvert_exporter": "python",
   "pygments_lexer": "ipython3",
   "version": "3.12.9"
  }
 },
 "nbformat": 4,
 "nbformat_minor": 2
}
