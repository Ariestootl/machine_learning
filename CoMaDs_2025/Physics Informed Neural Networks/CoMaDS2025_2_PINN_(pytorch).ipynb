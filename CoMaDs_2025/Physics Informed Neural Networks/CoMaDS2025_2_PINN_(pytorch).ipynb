{
  "cells": [
    {
      "cell_type": "markdown",
      "metadata": {
        "id": "rW3PMDt0CW9L"
      },
      "source": [
        "# 2. Physics Informed Neural Networks"
      ]
    },
    {
      "cell_type": "code",
      "execution_count": 1,
      "metadata": {
        "ExecuteTime": {
          "end_time": "2022-07-13T02:48:40.896924Z",
          "start_time": "2022-07-13T02:48:39.908211Z"
        },
        "id": "XubbYX28CW9M"
      },
      "outputs": [],
      "source": [
        "import numpy as np\n",
        "import matplotlib.pyplot as plt\n",
        "\n",
        "import torch\n",
        "import torch.nn as nn\n",
        "import torch.optim as optim"
      ]
    },
    {
      "cell_type": "markdown",
      "metadata": {
        "id": "9_VuZl3lCW9M"
      },
      "source": [
        "# 2-1. Initial Value Problem (ODE)\n",
        "\n",
        "Data is only obtained form an initial value\n",
        "\n",
        "We will solve a simple system of ODEs \n",
        "$$\n",
        "\\frac{dy_1}{dt} = y_2, \\quad  \\frac{dy_2}{dt} = -y_1, \\quad \\text{for  } t \\in [0,10] \\\\\n",
        "\\text{  with }\\\\\n",
        "y_1(0) = 0, \\quad y_2(0)=1,\n",
        "$$\n",
        "Then, the solutions are given by:\n",
        "$$\n",
        "y_1(t) = \\sin(t), \\quad y_2(t) = \\cos(t)\n",
        "$$"
      ]
    },
    {
      "cell_type": "markdown",
      "metadata": {
        "id": "0eNzfZDNCW9M"
      },
      "source": [
        "# Dataset generation"
      ]
    },
    {
      "cell_type": "code",
      "execution_count": 2,
      "metadata": {
        "ExecuteTime": {
          "end_time": "2022-07-13T02:48:41.455748Z",
          "start_time": "2022-07-13T02:48:41.449218Z"
        },
        "id": "gpHQYRhlCW9M"
      },
      "outputs": [],
      "source": [
        "N = 100                                                   # Number of samples\n",
        "t = torch.linspace(0, 10, N).view(-1,1)                   # Input data (N x 1)\n",
        "t_init = torch.zeros([1,1])                               # Input data the initial conditions (1 x 1)\n",
        "y_init = torch.FloatTensor([[0,1]])                       # Target data the initial conditions (1 x 2)\n",
        "y_true = torch.cat([torch.sin(t), torch.cos(t)], dim=1)   # True solutions (N x 2)"
      ]
    },
    {
      "cell_type": "markdown",
      "metadata": {
        "id": "zloHuUZvCW9M"
      },
      "source": [
        "# Neural Network"
      ]
    },
    {
      "cell_type": "code",
      "execution_count": 3,
      "metadata": {
        "ExecuteTime": {
          "end_time": "2022-07-13T02:48:42.917713Z",
          "start_time": "2022-07-13T02:48:42.909383Z"
        },
        "id": "7upK_yIQCW9N"
      },
      "outputs": [],
      "source": [
        "# Build a neural network\n",
        "\n",
        "class model(nn.Module) :\n",
        "    def __init__(self) :\n",
        "        super(model, self).__init__()\n",
        "        self.layer1 = nn.Linear(1,64)\n",
        "        self.layer2 = nn.Linear(64,64)\n",
        "        self.layer3 = nn.Linear(64,2) # 2nd_h_dim = 64, out_dim = 2\n",
        "        self.act = nn.Tanh()\n",
        "\n",
        "    def forward(self, x) :\n",
        "        x = self.layer1(x)\n",
        "        x = self.act(x)\n",
        "\n",
        "        x = self.act(self.layer2(x))\n",
        "        x = self.layer3(x)\n",
        "        return x"
      ]
    },
    {
      "cell_type": "markdown",
      "metadata": {
        "id": "vfa7icJvCW9N"
      },
      "source": [
        "# Loss function, Optimizer"
      ]
    },
    {
      "cell_type": "code",
      "execution_count": 8,
      "metadata": {
        "ExecuteTime": {
          "end_time": "2022-07-13T02:48:48.308606Z",
          "start_time": "2022-07-13T02:48:43.674017Z"
        },
        "id": "0NI4YKiACW9N"
      },
      "outputs": [],
      "source": [
        "# Prepare for training\n",
        "\n"
      ]
    },
    {
      "cell_type": "markdown",
      "metadata": {
        "id": "pD2PXXXSCW9N"
      },
      "source": [
        "# Compute $\\frac{dy}{dt}$"
      ]
    },
    {
      "cell_type": "code",
      "execution_count": 4,
      "metadata": {
        "ExecuteTime": {
          "end_time": "2022-07-13T02:48:48.314829Z",
          "start_time": "2022-07-13T02:48:48.311111Z"
        },
        "id": "VuTt6z7aCW9N"
      },
      "outputs": [],
      "source": [
        "t = t.requires_grad_(True) # The main difference compared to classical NN...\n",
        "def der(y, t) :\n",
        "    return torch.autograd.grad(y, t, create_graph=True, grad_outputs=torch.ones(y.size()))[0]"
      ]
    },
    {
      "cell_type": "markdown",
      "metadata": {
        "id": "nBHST1-cCW9N"
      },
      "source": [
        "# Training"
      ]
    },
    {
      "cell_type": "code",
      "execution_count": 6,
      "metadata": {
        "id": "hGDKiB6RzEIM"
      },
      "outputs": [],
      "source": [
        "network = model()\n",
        "\n",
        "loss_f = nn.MSELoss()\n",
        "optimizer = optim.Adam(network.parameters(), lr=1e-3)\n",
        "EPOCHS = 20000"
      ]
    },
    {
      "cell_type": "code",
      "execution_count": null,
      "metadata": {
        "ExecuteTime": {
          "end_time": "2022-07-13T02:51:04.374938Z",
          "start_time": "2022-07-13T02:48:48.316463Z"
        },
        "id": "WcovFAmmCW9N",
        "scrolled": true
      },
      "outputs": [
        {
          "name": "stdout",
          "output_type": "stream",
          "text": [
            "EPOCH :    100/ 20000 | Loss_init : 0.0021137 | Loss_ge : 0.0287245 \n",
            "EPOCH :    200/ 20000 | Loss_init : 0.0016482 | Loss_ge : 0.0241428 \n",
            "EPOCH :    300/ 20000 | Loss_init : 0.0012734 | Loss_ge : 0.0216280 \n",
            "EPOCH :    400/ 20000 | Loss_init : 0.0010712 | Loss_ge : 0.0203291 \n",
            "EPOCH :    500/ 20000 | Loss_init : 0.0009515 | Loss_ge : 0.0193152 \n",
            "EPOCH :    600/ 20000 | Loss_init : 0.0008356 | Loss_ge : 0.0185318 \n",
            "EPOCH :    700/ 20000 | Loss_init : 0.0007619 | Loss_ge : 0.0171731 \n",
            "EPOCH :    800/ 20000 | Loss_init : 0.0006943 | Loss_ge : 0.0163700 \n",
            "EPOCH :    900/ 20000 | Loss_init : 0.0006333 | Loss_ge : 0.0157911 \n",
            "EPOCH :   1000/ 20000 | Loss_init : 0.0005910 | Loss_ge : 0.0153162 \n",
            "EPOCH :   1100/ 20000 | Loss_init : 0.0005576 | Loss_ge : 0.0148620 \n",
            "EPOCH :   1200/ 20000 | Loss_init : 0.0005317 | Loss_ge : 0.0144419 \n",
            "EPOCH :   1300/ 20000 | Loss_init : 0.0004985 | Loss_ge : 0.0140618 \n",
            "EPOCH :   1400/ 20000 | Loss_init : 0.0005042 | Loss_ge : 0.0139491 \n",
            "EPOCH :   1500/ 20000 | Loss_init : 0.0004518 | Loss_ge : 0.0133799 \n",
            "EPOCH :   1600/ 20000 | Loss_init : 0.0004902 | Loss_ge : 0.0144593 \n",
            "EPOCH :   1700/ 20000 | Loss_init : 0.0004154 | Loss_ge : 0.0127523 \n",
            "EPOCH :   1800/ 20000 | Loss_init : 0.0003838 | Loss_ge : 0.0125938 \n",
            "EPOCH :   1900/ 20000 | Loss_init : 0.0003830 | Loss_ge : 0.0121109 \n",
            "EPOCH :   2000/ 20000 | Loss_init : 0.0003659 | Loss_ge : 0.0118262 \n",
            "EPOCH :   2100/ 20000 | Loss_init : 0.0003518 | Loss_ge : 0.0115275 \n",
            "EPOCH :   2200/ 20000 | Loss_init : 0.0003345 | Loss_ge : 0.0113243 \n",
            "EPOCH :   2300/ 20000 | Loss_init : 0.0003255 | Loss_ge : 0.0110538 \n",
            "EPOCH :   2400/ 20000 | Loss_init : 0.0003106 | Loss_ge : 0.0108934 \n",
            "EPOCH :   2500/ 20000 | Loss_init : 0.0003038 | Loss_ge : 0.0106469 \n",
            "EPOCH :   2600/ 20000 | Loss_init : 0.0002935 | Loss_ge : 0.0105008 \n",
            "EPOCH :   2700/ 20000 | Loss_init : 0.0002853 | Loss_ge : 0.0102937 \n",
            "EPOCH :   2800/ 20000 | Loss_init : 0.0002753 | Loss_ge : 0.0100955 \n",
            "EPOCH :   2900/ 20000 | Loss_init : 0.0002684 | Loss_ge : 0.0099939 \n",
            "EPOCH :   3000/ 20000 | Loss_init : 0.0002610 | Loss_ge : 0.0098204 \n",
            "EPOCH :   3100/ 20000 | Loss_init : 0.0002526 | Loss_ge : 0.0096491 \n",
            "EPOCH :   3200/ 20000 | Loss_init : 0.0002539 | Loss_ge : 0.0095638 \n",
            "EPOCH :   3300/ 20000 | Loss_init : 0.0002406 | Loss_ge : 0.0094159 \n",
            "EPOCH :   3400/ 20000 | Loss_init : 0.0002337 | Loss_ge : 0.0092696 \n",
            "EPOCH :   3500/ 20000 | Loss_init : 0.0002345 | Loss_ge : 0.0091988 \n",
            "EPOCH :   3600/ 20000 | Loss_init : 0.0002238 | Loss_ge : 0.0090662 \n",
            "EPOCH :   3700/ 20000 | Loss_init : 0.0002178 | Loss_ge : 0.0089369 \n",
            "EPOCH :   3800/ 20000 | Loss_init : 0.0002110 | Loss_ge : 0.0088693 \n",
            "EPOCH :   3900/ 20000 | Loss_init : 0.0002094 | Loss_ge : 0.0087573 \n",
            "EPOCH :   4000/ 20000 | Loss_init : 0.0001463 | Loss_ge : 0.0120751 \n",
            "EPOCH :   4100/ 20000 | Loss_init : 0.0002020 | Loss_ge : 0.0085938 \n",
            "EPOCH :   4200/ 20000 | Loss_init : 0.0001980 | Loss_ge : 0.0084927 \n",
            "EPOCH :   4300/ 20000 | Loss_init : 0.0001886 | Loss_ge : 0.0084051 \n",
            "EPOCH :   4400/ 20000 | Loss_init : 0.0001914 | Loss_ge : 0.0083440 \n",
            "EPOCH :   4500/ 20000 | Loss_init : 0.0001880 | Loss_ge : 0.0082513 \n",
            "EPOCH :   4600/ 20000 | Loss_init : 0.0001845 | Loss_ge : 0.0081571 \n",
            "EPOCH :   4700/ 20000 | Loss_init : 0.0001833 | Loss_ge : 0.0081022 \n",
            "EPOCH :   4800/ 20000 | Loss_init : 0.0001785 | Loss_ge : 0.0080144 \n",
            "EPOCH :   4900/ 20000 | Loss_init : 0.0002301 | Loss_ge : 0.0084163 \n",
            "EPOCH :   5000/ 20000 | Loss_init : 0.0001738 | Loss_ge : 0.0078803 \n",
            "EPOCH :   5100/ 20000 | Loss_init : 0.0001704 | Loss_ge : 0.0077985 \n",
            "EPOCH :   5200/ 20000 | Loss_init : 0.0002077 | Loss_ge : 0.0080872 \n",
            "EPOCH :   5300/ 20000 | Loss_init : 0.0001669 | Loss_ge : 0.0076928 \n",
            "EPOCH :   5400/ 20000 | Loss_init : 0.0001639 | Loss_ge : 0.0076163 \n",
            "EPOCH :   5500/ 20000 | Loss_init : 0.0001609 | Loss_ge : 0.0075375 \n",
            "EPOCH :   5600/ 20000 | Loss_init : 0.0001613 | Loss_ge : 0.0075033 \n",
            "EPOCH :   5700/ 20000 | Loss_init : 0.0001574 | Loss_ge : 0.0074282 \n",
            "EPOCH :   5800/ 20000 | Loss_init : 0.0001549 | Loss_ge : 0.0073547 \n",
            "EPOCH :   5900/ 20000 | Loss_init : 0.0001513 | Loss_ge : 0.0073272 \n",
            "EPOCH :   6000/ 20000 | Loss_init : 0.0001513 | Loss_ge : 0.0072499 \n",
            "EPOCH :   6100/ 20000 | Loss_init : 0.0001525 | Loss_ge : 0.0071826 \n",
            "EPOCH :   6200/ 20000 | Loss_init : 0.0001495 | Loss_ge : 0.0071458 \n",
            "EPOCH :   6300/ 20000 | Loss_init : 0.0001458 | Loss_ge : 0.0070804 \n",
            "EPOCH :   6400/ 20000 | Loss_init : 0.0002407 | Loss_ge : 0.0105363 \n",
            "EPOCH :   6500/ 20000 | Loss_init : 0.0001432 | Loss_ge : 0.0069937 \n",
            "EPOCH :   6600/ 20000 | Loss_init : 0.0001408 | Loss_ge : 0.0069285 \n",
            "EPOCH :   6700/ 20000 | Loss_init : 0.0001385 | Loss_ge : 0.0068619 \n",
            "EPOCH :   6800/ 20000 | Loss_init : 0.0001488 | Loss_ge : 0.0068555 \n",
            "EPOCH :   6900/ 20000 | Loss_init : 0.0001363 | Loss_ge : 0.0067774 \n",
            "EPOCH :   7000/ 20000 | Loss_init : 0.0001340 | Loss_ge : 0.0067152 \n",
            "EPOCH :   7100/ 20000 | Loss_init : 0.0001154 | Loss_ge : 0.0068653 \n",
            "EPOCH :   7200/ 20000 | Loss_init : 0.0001317 | Loss_ge : 0.0066352 \n",
            "EPOCH :   7300/ 20000 | Loss_init : 0.0001294 | Loss_ge : 0.0065745 \n",
            "EPOCH :   7400/ 20000 | Loss_init : 0.0002289 | Loss_ge : 0.0077129 \n",
            "EPOCH :   7500/ 20000 | Loss_init : 0.0001277 | Loss_ge : 0.0064926 \n",
            "EPOCH :   7600/ 20000 | Loss_init : 0.0001252 | Loss_ge : 0.0064362 \n",
            "EPOCH :   7700/ 20000 | Loss_init : 0.0001336 | Loss_ge : 0.0064533 \n",
            "EPOCH :   7800/ 20000 | Loss_init : 0.0001229 | Loss_ge : 0.0063594 \n",
            "EPOCH :   7900/ 20000 | Loss_init : 0.0001209 | Loss_ge : 0.0063034 \n",
            "EPOCH :   8000/ 20000 | Loss_init : 0.0001130 | Loss_ge : 0.0063221 \n",
            "EPOCH :   8100/ 20000 | Loss_init : 0.0001192 | Loss_ge : 0.0062328 \n",
            "EPOCH :   8200/ 20000 | Loss_init : 0.0001174 | Loss_ge : 0.0061804 \n",
            "EPOCH :   8300/ 20000 | Loss_init : 0.0001146 | Loss_ge : 0.0061737 \n",
            "EPOCH :   8400/ 20000 | Loss_init : 0.0001155 | Loss_ge : 0.0061128 \n",
            "EPOCH :   8500/ 20000 | Loss_init : 0.0001138 | Loss_ge : 0.0060606 \n",
            "EPOCH :   8600/ 20000 | Loss_init : 0.0001140 | Loss_ge : 0.0060442 \n",
            "EPOCH :   8700/ 20000 | Loss_init : 0.0001120 | Loss_ge : 0.0059954 \n",
            "EPOCH :   8800/ 20000 | Loss_init : 0.0000107 | Loss_ge : 0.0226873 \n",
            "EPOCH :   8900/ 20000 | Loss_init : 0.0001098 | Loss_ge : 0.0059321 \n",
            "EPOCH :   9000/ 20000 | Loss_init : 0.0001086 | Loss_ge : 0.0058832 \n",
            "EPOCH :   9100/ 20000 | Loss_init : 0.0001202 | Loss_ge : 0.0064687 \n",
            "EPOCH :   9200/ 20000 | Loss_init : 0.0001079 | Loss_ge : 0.0058175 \n",
            "EPOCH :   9300/ 20000 | Loss_init : 0.0001055 | Loss_ge : 0.0057725 \n",
            "EPOCH :   9400/ 20000 | Loss_init : 0.0000957 | Loss_ge : 0.0058361 \n",
            "EPOCH :   9500/ 20000 | Loss_init : 0.0001040 | Loss_ge : 0.0057120 \n",
            "EPOCH :   9600/ 20000 | Loss_init : 0.0001024 | Loss_ge : 0.0056661 \n",
            "EPOCH :   9700/ 20000 | Loss_init : 0.0001107 | Loss_ge : 0.0056536 \n",
            "EPOCH :   9800/ 20000 | Loss_init : 0.0001011 | Loss_ge : 0.0056074 \n",
            "EPOCH :   9900/ 20000 | Loss_init : 0.0001244 | Loss_ge : 0.0059770 \n",
            "EPOCH :  10000/ 20000 | Loss_init : 0.0001005 | Loss_ge : 0.0055488 \n",
            "EPOCH :  10100/ 20000 | Loss_init : 0.0000981 | Loss_ge : 0.0055066 \n",
            "EPOCH :  10200/ 20000 | Loss_init : 0.0000483 | Loss_ge : 0.0097969 \n",
            "EPOCH :  10300/ 20000 | Loss_init : 0.0000974 | Loss_ge : 0.0054505 \n",
            "EPOCH :  10400/ 20000 | Loss_init : 0.0000956 | Loss_ge : 0.0054100 \n",
            "EPOCH :  10500/ 20000 | Loss_init : 0.0000678 | Loss_ge : 0.0061229 \n",
            "EPOCH :  10600/ 20000 | Loss_init : 0.0000944 | Loss_ge : 0.0053579 \n",
            "EPOCH :  10700/ 20000 | Loss_init : 0.0000929 | Loss_ge : 0.0053168 \n",
            "EPOCH :  10800/ 20000 | Loss_init : 0.0000673 | Loss_ge : 0.0065303 \n",
            "EPOCH :  10900/ 20000 | Loss_init : 0.0000918 | Loss_ge : 0.0052647 \n",
            "EPOCH :  11000/ 20000 | Loss_init : 0.0000906 | Loss_ge : 0.0052254 \n",
            "EPOCH :  11100/ 20000 | Loss_init : 0.0001662 | Loss_ge : 0.0080558 \n",
            "EPOCH :  11200/ 20000 | Loss_init : 0.0000899 | Loss_ge : 0.0051791 \n",
            "EPOCH :  11300/ 20000 | Loss_init : 0.0000883 | Loss_ge : 0.0051400 \n",
            "EPOCH :  11400/ 20000 | Loss_init : 0.0001192 | Loss_ge : 0.0068162 \n",
            "EPOCH :  11500/ 20000 | Loss_init : 0.0000884 | Loss_ge : 0.0050842 \n",
            "EPOCH :  11600/ 20000 | Loss_init : 0.0000859 | Loss_ge : 0.0050464 \n",
            "EPOCH :  11700/ 20000 | Loss_init : 0.0000760 | Loss_ge : 0.0050835 \n",
            "EPOCH :  11800/ 20000 | Loss_init : 0.0000848 | Loss_ge : 0.0049971 \n",
            "EPOCH :  11900/ 20000 | Loss_init : 0.0000835 | Loss_ge : 0.0049580 \n",
            "EPOCH :  12000/ 20000 | Loss_init : 0.0000977 | Loss_ge : 0.0049921 \n",
            "EPOCH :  12100/ 20000 | Loss_init : 0.0000826 | Loss_ge : 0.0049079 \n",
            "EPOCH :  12200/ 20000 | Loss_init : 0.0000820 | Loss_ge : 0.0048702 \n",
            "EPOCH :  12300/ 20000 | Loss_init : 0.0000831 | Loss_ge : 0.0048592 \n",
            "EPOCH :  12400/ 20000 | Loss_init : 0.0000803 | Loss_ge : 0.0048229 \n",
            "EPOCH :  12500/ 20000 | Loss_init : 0.0000430 | Loss_ge : 0.0140273 \n",
            "EPOCH :  12600/ 20000 | Loss_init : 0.0000804 | Loss_ge : 0.0047733 \n",
            "EPOCH :  12700/ 20000 | Loss_init : 0.0000782 | Loss_ge : 0.0047386 \n",
            "EPOCH :  12800/ 20000 | Loss_init : 0.0000704 | Loss_ge : 0.0047978 \n",
            "EPOCH :  12900/ 20000 | Loss_init : 0.0000773 | Loss_ge : 0.0046923 \n",
            "EPOCH :  13000/ 20000 | Loss_init : 0.0000760 | Loss_ge : 0.0046563 \n",
            "EPOCH :  13100/ 20000 | Loss_init : 0.0000754 | Loss_ge : 0.0047309 \n",
            "EPOCH :  13200/ 20000 | Loss_init : 0.0000753 | Loss_ge : 0.0046100 \n",
            "EPOCH :  13300/ 20000 | Loss_init : 0.0000796 | Loss_ge : 0.0046138 \n",
            "EPOCH :  13400/ 20000 | Loss_init : 0.0000754 | Loss_ge : 0.0045664 \n",
            "EPOCH :  13500/ 20000 | Loss_init : 0.0000732 | Loss_ge : 0.0045337 \n",
            "EPOCH :  13600/ 20000 | Loss_init : 0.0000309 | Loss_ge : 0.0123532 \n",
            "EPOCH :  13700/ 20000 | Loss_init : 0.0000721 | Loss_ge : 0.0044954 \n",
            "EPOCH :  13800/ 20000 | Loss_init : 0.0000715 | Loss_ge : 0.0044617 \n",
            "EPOCH :  13900/ 20000 | Loss_init : 0.0000729 | Loss_ge : 0.0044456 \n",
            "EPOCH :  14000/ 20000 | Loss_init : 0.0000687 | Loss_ge : 0.0044221 \n",
            "EPOCH :  14100/ 20000 | Loss_init : 0.0000697 | Loss_ge : 0.0043865 \n",
            "EPOCH :  14200/ 20000 | Loss_init : 0.0000561 | Loss_ge : 0.0046104 \n",
            "EPOCH :  14300/ 20000 | Loss_init : 0.0000688 | Loss_ge : 0.0043453 \n",
            "EPOCH :  14400/ 20000 | Loss_init : 0.0000679 | Loss_ge : 0.0043126 \n",
            "EPOCH :  14500/ 20000 | Loss_init : 0.0000915 | Loss_ge : 0.0044448 \n",
            "EPOCH :  14600/ 20000 | Loss_init : 0.0000674 | Loss_ge : 0.0042714 \n",
            "EPOCH :  14700/ 20000 | Loss_init : 0.0000662 | Loss_ge : 0.0042405 \n",
            "EPOCH :  14800/ 20000 | Loss_init : 0.0000564 | Loss_ge : 0.0044060 \n",
            "EPOCH :  14900/ 20000 | Loss_init : 0.0000654 | Loss_ge : 0.0041998 \n",
            "EPOCH :  15000/ 20000 | Loss_init : 0.0000644 | Loss_ge : 0.0041679 \n",
            "EPOCH :  15100/ 20000 | Loss_init : 0.0000617 | Loss_ge : 0.0041712 \n",
            "EPOCH :  15200/ 20000 | Loss_init : 0.0000637 | Loss_ge : 0.0041275 \n",
            "EPOCH :  15300/ 20000 | Loss_init : 0.0000623 | Loss_ge : 0.0040966 \n",
            "EPOCH :  15400/ 20000 | Loss_init : 0.0000621 | Loss_ge : 0.0040949 \n",
            "EPOCH :  15500/ 20000 | Loss_init : 0.0000622 | Loss_ge : 0.0040606 \n",
            "EPOCH :  15600/ 20000 | Loss_init : 0.0000612 | Loss_ge : 0.0040287 \n",
            "EPOCH :  15700/ 20000 | Loss_init : 0.0000656 | Loss_ge : 0.0040115 \n",
            "EPOCH :  15800/ 20000 | Loss_init : 0.0000859 | Loss_ge : 0.0047119 \n",
            "EPOCH :  15900/ 20000 | Loss_init : 0.0000601 | Loss_ge : 0.0039622 \n",
            "EPOCH :  16000/ 20000 | Loss_init : 0.0000466 | Loss_ge : 0.0043403 \n",
            "EPOCH :  16100/ 20000 | Loss_init : 0.0000590 | Loss_ge : 0.0039203 \n",
            "EPOCH :  16200/ 20000 | Loss_init : 0.0000580 | Loss_ge : 0.0038885 \n",
            "EPOCH :  16300/ 20000 | Loss_init : 0.0002008 | Loss_ge : 0.0062468 \n",
            "EPOCH :  16400/ 20000 | Loss_init : 0.0000573 | Loss_ge : 0.0038487 \n",
            "EPOCH :  16500/ 20000 | Loss_init : 0.0000565 | Loss_ge : 0.0038184 \n",
            "EPOCH :  16600/ 20000 | Loss_init : 0.0000261 | Loss_ge : 0.0065262 \n",
            "EPOCH :  16700/ 20000 | Loss_init : 0.0000560 | Loss_ge : 0.0037791 \n",
            "EPOCH :  16800/ 20000 | Loss_init : 0.0000548 | Loss_ge : 0.0037480 \n",
            "EPOCH :  16900/ 20000 | Loss_init : 0.0001764 | Loss_ge : 0.0048758 \n",
            "EPOCH :  17000/ 20000 | Loss_init : 0.0000534 | Loss_ge : 0.0037067 \n",
            "EPOCH :  17100/ 20000 | Loss_init : 0.0000531 | Loss_ge : 0.0036746 \n",
            "EPOCH :  17200/ 20000 | Loss_init : 0.0000122 | Loss_ge : 0.0110489 \n",
            "EPOCH :  17300/ 20000 | Loss_init : 0.0000531 | Loss_ge : 0.0036333 \n",
            "EPOCH :  17400/ 20000 | Loss_init : 0.0000514 | Loss_ge : 0.0036017 \n",
            "EPOCH :  17500/ 20000 | Loss_init : 0.0001978 | Loss_ge : 0.0128389 \n",
            "EPOCH :  17600/ 20000 | Loss_init : 0.0000497 | Loss_ge : 0.0035558 \n",
            "EPOCH :  17700/ 20000 | Loss_init : 0.0000496 | Loss_ge : 0.0035238 \n",
            "EPOCH :  17800/ 20000 | Loss_init : 0.0000543 | Loss_ge : 0.0035329 \n",
            "EPOCH :  17900/ 20000 | Loss_init : 0.0000488 | Loss_ge : 0.0034825 \n",
            "EPOCH :  18000/ 20000 | Loss_init : 0.0000478 | Loss_ge : 0.0034509 \n",
            "EPOCH :  18100/ 20000 | Loss_init : 0.0000369 | Loss_ge : 0.0036663 \n",
            "EPOCH :  18200/ 20000 | Loss_init : 0.0000473 | Loss_ge : 0.0034128 \n",
            "EPOCH :  18300/ 20000 | Loss_init : 0.0000463 | Loss_ge : 0.0033812 \n",
            "EPOCH :  18400/ 20000 | Loss_init : 0.0000482 | Loss_ge : 0.0034288 \n",
            "EPOCH :  18500/ 20000 | Loss_init : 0.0000440 | Loss_ge : 0.0033369 \n",
            "EPOCH :  18600/ 20000 | Loss_init : 0.0000445 | Loss_ge : 0.0033023 \n",
            "EPOCH :  18700/ 20000 | Loss_init : 0.0000112 | Loss_ge : 0.0106756 \n",
            "EPOCH :  18800/ 20000 | Loss_init : 0.0000439 | Loss_ge : 0.0032580 \n",
            "EPOCH :  18900/ 20000 | Loss_init : 0.0000428 | Loss_ge : 0.0032247 \n",
            "EPOCH :  19000/ 20000 | Loss_init : 0.0000994 | Loss_ge : 0.0066907 \n",
            "EPOCH :  19100/ 20000 | Loss_init : 0.0000419 | Loss_ge : 0.0031648 \n",
            "EPOCH :  19200/ 20000 | Loss_init : 0.0000300 | Loss_ge : 0.0036106 \n",
            "EPOCH :  19300/ 20000 | Loss_init : 0.0000402 | Loss_ge : 0.0031084 \n",
            "EPOCH :  19400/ 20000 | Loss_init : 0.0000422 | Loss_ge : 0.0031121 \n",
            "EPOCH :  19500/ 20000 | Loss_init : 0.0000392 | Loss_ge : 0.0030486 \n",
            "EPOCH :  19600/ 20000 | Loss_init : 0.0000380 | Loss_ge : 0.0030074 \n",
            "EPOCH :  19700/ 20000 | Loss_init : 0.0000257 | Loss_ge : 0.0053876 \n",
            "EPOCH :  19800/ 20000 | Loss_init : 0.0000374 | Loss_ge : 0.0029322 \n",
            "EPOCH :  19900/ 20000 | Loss_init : 0.0001238 | Loss_ge : 0.0037387 \n",
            "EPOCH :  20000/ 20000 | Loss_init : 0.0000231 | Loss_ge : 0.0079917 \n",
            "Training Finished.\n"
          ]
        }
      ],
      "source": [
        "# Train\n",
        "loss_list = []\n",
        "network.train()\n",
        "\n",
        "for i in range(1, EPOCHS+1) :\n",
        "    optimizer.zero_grad()\n",
        "    output = network(t)\n",
        "    output_init = network(t_init)\n",
        "\n",
        "    dy1 = der(output[:,0], t)\n",
        "    dy2 = der(output[:,1], t)\n",
        "\n",
        "    loss_init = loss_f(output_init, y_init)\n",
        "    loss_ge = loss_f(dy1 - output[:,1].view(-1,1), torch.zeros_like(dy1)) \\\n",
        "            + loss_f(dy2 + output[:,0].view(-1,1), torch.zeros_like(dy1))\n",
        "\n",
        "    loss = loss_init + loss_ge\n",
        "    loss.backward()\n",
        "    optimizer.step()\n",
        "\n",
        "    loss_list.append(loss.item())\n",
        "    if not i % 100 :\n",
        "        print('EPOCH : %6d/%6d | Loss_init : %8.7f | Loss_ge : %8.7f ' %(i, EPOCHS, loss_init.item(), loss_ge.item()))\n",
        "print('Training Finished.')"
      ]
    },
    {
      "cell_type": "code",
      "execution_count": null,
      "metadata": {
        "ExecuteTime": {
          "end_time": "2022-05-26T12:23:35.088492Z",
          "start_time": "2022-05-26T12:23:35.074542Z"
        },
        "id": "5Q0Vf8CGCW9N"
      },
      "outputs": [],
      "source": [
        "#torch.save([network, loss_list], 'forward_ode.pt')\n",
        "#network, loss_list = torch.load('forward_ode.pt')"
      ]
    },
    {
      "cell_type": "markdown",
      "metadata": {
        "id": "9bO9Qj-ZCW9N"
      },
      "source": [
        "# Plot Results"
      ]
    },
    {
      "cell_type": "code",
      "execution_count": 9,
      "metadata": {
        "ExecuteTime": {
          "end_time": "2022-05-26T12:23:37.110933Z",
          "start_time": "2022-05-26T12:23:35.772659Z"
        },
        "id": "gw8ZgfnPCW9N"
      },
      "outputs": [
        {
          "name": "stdout",
          "output_type": "stream",
          "text": [
            "Mean Square Error for $y_1(t)$ : 0.0417005\n",
            "Mean Square Error for $y_2(t)$ : 0.0499886\n"
          ]
        },
        {
          "data": {
            "image/png": "[encoded data removed]",
            "text/plain": [
              "<Figure size 1500x500 with 3 Axes>"
            ]
          },
          "metadata": {},
          "output_type": "display_data"
        }
      ],
      "source": [
        "print('Mean Square Error for $y_1(t)$ : %8.7f' %((network(t)[:,0].view(-1,1) - torch.sin(t))**2).mean())\n",
        "print('Mean Square Error for $y_2(t)$ : %8.7f' %((network(t)[:,1].view(-1,1) - torch.cos(t))**2).mean())\n",
        "\n",
        "network.eval()\n",
        "figure = plt.figure(figsize=(15,5))\n",
        "ax1 = figure.add_subplot(1,3,1)\n",
        "ax1.plot(t.cpu().detach().numpy(), torch.sin(t).cpu().detach().numpy(),\\\n",
        "         linestyle='-', lw=2, color='r', label='Target Function')\n",
        "ax1.plot(t.cpu().detach().numpy(), network(t).cpu().detach().numpy()[:,0],\\\n",
        "         linestyle='--', lw=2, color='b', label='Trained Neural Network')\n",
        "ax1.legend()\n",
        "ax1.set_title('$y_1(t)$', fontsize=13)\n",
        "ax1.set_xlabel('t', fontsize=13)\n",
        "\n",
        "ax2 = figure.add_subplot(1,3,2)\n",
        "ax2.plot(t.cpu().detach().numpy(), torch.cos(t).cpu().detach().numpy(),\\\n",
        "         linestyle='-', lw=2, color='r', label='Target Function')\n",
        "ax2.plot(t.cpu().detach().numpy(), network(t).cpu().detach().numpy()[:,1],\\\n",
        "         linestyle='--', lw=2, color='b', label='Trained Neural Network')\n",
        "ax2.legend()\n",
        "ax2.set_title('$y_2(t)$', fontsize=13)\n",
        "ax2.set_xlabel('t', fontsize=13)\n",
        "\n",
        "ax3 = figure.add_subplot(1,3,3)\n",
        "ax3.plot(loss_list, label='Training Loss')\n",
        "ax3.set_yscale('log')\n",
        "ax3.legend()\n",
        "ax3.set_title('Training Loss in log scale', fontsize=13)\n",
        "ax3.set_xlabel('epoch', fontsize=13)\n",
        "\n",
        "plt.savefig('ode', dpi=100)"
      ]
    },
    {
      "cell_type": "markdown",
      "metadata": {
        "id": "qnk2MzR5CW9N"
      },
      "source": [
        "# 2-2. Initial Boundary Value Problem (PDE) ~ Skip\n",
        "$$\n",
        "\\partial_t u + u\\partial_x u = \\nu \\partial_{xx} u, \\text{ for } (t,x) \\in [0,1]\\times[-1,1],\n",
        "$$\n",
        "\n",
        "with the Dirichlet boundary conditions $u(t,-1) = u(t,1) = 0, \\text{ for } t \\in [0,1]$\n",
        "\n",
        "and an initial condition: $u(0, x) = -\\sin(\\pi x)$"
      ]
    },
    {
      "cell_type": "markdown",
      "metadata": {
        "id": "eE6XQM56CW9N"
      },
      "source": [
        "# Dataset generation"
      ]
    },
    {
      "cell_type": "code",
      "execution_count": null,
      "metadata": {
        "ExecuteTime": {
          "end_time": "2022-05-26T12:27:27.826871Z",
          "start_time": "2022-05-26T12:27:27.816234Z"
        },
        "id": "KunA-LO8CW9N"
      },
      "outputs": [],
      "source": [
        "Nt = 50                                                   # Number of samples\n",
        "Nx = 50                                                   # Number of samples\n",
        "t = torch.linspace(0, 1, Nt)                              # Input data for t (N x 1)\n",
        "x = torch.linspace(-1, 1, Nx)                             # Input data for x (N x 1)\n",
        "\n",
        "tx = torch.meshgrid(t,x)\n",
        "tx_grid = torch.cat([tx[0].reshape(-1,1), tx[1].reshape(-1,1)],dim=1)\n",
        "\n",
        "x_init = tx_grid[tx_grid[:,0]==0]\n",
        "u_init = -torch.sin(np.pi*x_init[:,1]).view(-1,1)\n",
        "x_bdry = tx_grid[torch.logical_or((tx_grid[:,1]==1), (tx_grid[:,1]==-1))]\n",
        "u_bdry = torch.zeros_like(x_bdry[:,0].view(-1,1))"
      ]
    },
    {
      "cell_type": "code",
      "execution_count": null,
      "metadata": {
        "ExecuteTime": {
          "end_time": "2022-05-26T12:27:28.019130Z",
          "start_time": "2022-05-26T12:27:28.013267Z"
        },
        "id": "IJeIWNhQCW9N"
      },
      "outputs": [],
      "source": [
        "tx_grid.size()"
      ]
    },
    {
      "cell_type": "code",
      "execution_count": null,
      "metadata": {
        "ExecuteTime": {
          "end_time": "2022-05-26T12:27:39.328624Z",
          "start_time": "2022-05-26T12:27:39.004092Z"
        },
        "id": "oB3o9Nu6CW9N"
      },
      "outputs": [],
      "source": [
        "plt.figure(figsize=(7,7))\n",
        "plt.plot(tx_grid[:,0], tx_grid[:,1], 'co', markersize=3, label='uniform grid')\n",
        "plt.plot(x_init[:,0], x_init[:,1], 'bo', markersize=3, label='initial points')\n",
        "plt.plot(x_bdry[:,0], x_bdry[:,1], 'ro', markersize=3, label='boundary points')\n",
        "plt.legend(loc='center right', fontsize=15)\n",
        "plt.title('Uniform Grid', fontsize=15)\n",
        "plt.xlabel('t', fontsize=15)\n",
        "plt.ylabel('x', fontsize=15)\n",
        "plt.savefig('burgers_data', dpi=100)"
      ]
    },
    {
      "cell_type": "markdown",
      "metadata": {
        "id": "wYucqPYMCW9N"
      },
      "source": [
        "# Neural Network"
      ]
    },
    {
      "cell_type": "code",
      "execution_count": null,
      "metadata": {
        "ExecuteTime": {
          "end_time": "2022-05-26T12:23:59.570577Z",
          "start_time": "2022-05-26T12:23:59.561324Z"
        },
        "id": "1HDZn1QcCW9O"
      },
      "outputs": [],
      "source": [
        "# Build a neural network ~ Another way to build NN\n",
        "\n",
        "class model(nn.Module) :\n",
        "    def __init__(self, hidden_dims) :                    # Hidden_dims : [h1, h2, h3, ..., hn]\n",
        "        super(model, self).__init__()\n",
        "\n",
        "        self.layers = []\n",
        "        for i in range(len(hidden_dims)-1) :\n",
        "            self.layers.append(nn.Linear(hidden_dims[i], hidden_dims[i+1])) # hidden layers\n",
        "        self.layers = nn.ModuleList(self.layers)\n",
        "\n",
        "        for layer in self.layers :                       # Weight initialization\n",
        "            nn.init.xavier_uniform_(layer.weight)        # Also known as Glorot initialization\n",
        "\n",
        "        self.act = nn.Tanh()                             # Nonlinear activation function\n",
        "\n",
        "    def forward(self, x) :\n",
        "        for layer in self.layers[:-1] :\n",
        "            x = self.act(layer(x))\n",
        "        x = self.layers[-1](x)\n",
        "        return x"
      ]
    },
    {
      "cell_type": "markdown",
      "metadata": {
        "id": "vSz6meO5CW9O"
      },
      "source": [
        "# Loss function, Optimizer"
      ]
    },
    {
      "cell_type": "code",
      "execution_count": null,
      "metadata": {
        "ExecuteTime": {
          "end_time": "2022-05-26T12:24:00.946284Z",
          "start_time": "2022-05-26T12:24:00.928887Z"
        },
        "id": "QWZotxO8CW9O"
      },
      "outputs": [],
      "source": [
        "# Prepare for training\n",
        "\n",
        "network = model(hidden_dims=[2,64,64,64,64,1])\n",
        "tx_grid = tx_grid.requires_grad_(True)\n",
        "x_init = x_init\n",
        "u_init = u_init\n",
        "x_bdry = x_bdry\n",
        "u_bdry = u_bdry\n",
        "\n",
        "loss_f = nn.MSELoss()                                  # Mean Square Error loss function\n",
        "optimizer = optim.Adam(network.parameters(), lr=1e-4)  # Adam optimizer\n",
        "EPOCHS = 20000                                         # Number of Training Iterations"
      ]
    },
    {
      "cell_type": "markdown",
      "metadata": {
        "id": "8zl5-qBfCW9O"
      },
      "source": [
        "# Compute $\\frac{\\partial u}{\\partial t}, \\frac{\\partial u}{\\partial x}$"
      ]
    },
    {
      "cell_type": "code",
      "execution_count": null,
      "metadata": {
        "ExecuteTime": {
          "end_time": "2022-05-26T12:24:01.449198Z",
          "start_time": "2022-05-26T12:24:01.444713Z"
        },
        "id": "IpGEoJQiCW9O"
      },
      "outputs": [],
      "source": [
        "def der(y, x) :\n",
        "    return torch.autograd.grad(y, x, create_graph=True,\\\n",
        "                               grad_outputs=torch.ones(y.size()))[0]"
      ]
    },
    {
      "cell_type": "markdown",
      "metadata": {
        "id": "YbgG3mpGCW9O"
      },
      "source": [
        "# Training"
      ]
    },
    {
      "cell_type": "code",
      "execution_count": null,
      "metadata": {
        "ExecuteTime": {
          "end_time": "2022-05-26T12:21:24.694621Z",
          "start_time": "2022-05-26T12:15:39.799426Z"
        },
        "id": "qaVey3JUCW9O",
        "scrolled": true
      },
      "outputs": [],
      "source": [
        "# Train\n",
        "loss_list = []\n",
        "network.train()\n",
        "\n",
        "for i in range(1, EPOCHS+1) :\n",
        "    optimizer.zero_grad()\n",
        "    output = network(tx_grid)\n",
        "    output_init = network(x_init)\n",
        "    output_bdry = network(x_bdry)\n",
        "\n",
        "    grad_output = der(output, tx_grid)  # \\nabla_{t,x} u\n",
        "    output_t = grad_output[:,0].view(-1,1)\n",
        "    output_x = grad_output[:,1].view(-1,1)\n",
        "    output_xx = der(grad_output[:,1], tx_grid)[:,1].view(-1,1)\n",
        "\n",
        "    loss_init = loss_f(output_init, u_init)\n",
        "    loss_bdry = loss_f(output_bdry, u_bdry)\n",
        "    loss_ge = loss_f(output_t + output*output_x - (0.01/np.pi)*output_xx, torch.zeros_like(output))\n",
        "\n",
        "    loss = loss_ge + loss_init + loss_bdry\n",
        "    loss.backward()\n",
        "    optimizer.step()\n",
        "\n",
        "    loss_list.append(loss.item())\n",
        "    if not i % 100 :\n",
        "        print('EPOCH : %6d/%6d | Loss_ge : %8.7f | Loss_init : %8.7f | Loss_bdry : %8.7f' \\\n",
        "              %(i, EPOCHS, loss_ge.item(), loss_init.item(), loss_bdry.item()))\n",
        "print('Training Finished.')"
      ]
    },
    {
      "cell_type": "code",
      "execution_count": null,
      "metadata": {
        "ExecuteTime": {
          "end_time": "2022-05-26T12:24:05.956021Z",
          "start_time": "2022-05-26T12:24:05.938732Z"
        },
        "id": "CbOnspHQCW9O"
      },
      "outputs": [],
      "source": [
        "#torch.save([network, loss_list], 'forward_Burgers.pt')\n",
        "network, loss_list = torch.load('forward_Burgers.pt')"
      ]
    },
    {
      "cell_type": "markdown",
      "metadata": {
        "id": "FSXWIXjSCW9O"
      },
      "source": [
        "# Plot Results"
      ]
    },
    {
      "cell_type": "code",
      "execution_count": null,
      "metadata": {
        "ExecuteTime": {
          "end_time": "2022-05-26T12:24:17.173577Z",
          "start_time": "2022-05-26T12:24:16.193258Z"
        },
        "id": "mnXEqpqOCW9O",
        "scrolled": false
      },
      "outputs": [],
      "source": [
        "data = np.load('Burgers.npz')\n",
        "lst = data.files\n",
        "\n",
        "figure = plt.figure(figsize=(15,5))\n",
        "ax1 = figure.add_subplot(1,3,1)\n",
        "ax1.plot(np.linspace(-1,1,256), data['usol'][:,0],\\\n",
        "         label='True Solution at $t=0$', linestyle='-', lw=3, color='r')\n",
        "ax1.plot(x_init[:,1].cpu(), network(x_init).cpu().detach(),\\\n",
        "         label='Neural Network at $t=0$', linestyle='--', lw=3, color='b')\n",
        "ax1.legend()\n",
        "\n",
        "ax2 = figure.add_subplot(1,3,2)\n",
        "ax2.plot(np.linspace(-1,1,256), data['usol'][:,-1],\\\n",
        "         label='True Solution at $t=1$', linestyle='-', lw=3, color='r')\n",
        "ax2.plot(tx_grid[tx_grid[:,0]==1][:,1].cpu().detach(), network(tx_grid[tx_grid[:,0]==1]).cpu().detach(),\\\n",
        "         label='Neural Network at $t=1$', linestyle='--', lw=3, color='b')\n",
        "ax2.legend(loc='upper right', fontsize=10)\n",
        "ax2.set_ylim(-1.1,1.1)\n",
        "\n",
        "ax3 = figure.add_subplot(1,3,3)\n",
        "ax3.plot(loss_list, label='Training Loss')\n",
        "ax3.set_yscale('log')\n",
        "ax3.legend()\n",
        "ax3.set_title('Training Loss in log scale', fontsize=13)\n",
        "ax3.set_xlabel('epoch', fontsize=13)\n",
        "plt.savefig('burgers', dpi=100)"
      ]
    },
    {
      "cell_type": "markdown",
      "metadata": {
        "id": "_XMx3XM5CW9O"
      },
      "source": [
        "# 2-3. Parameter estimation (Lorenz system)\n",
        "\n",
        "\n",
        "We will solve the Lorentz system : \n",
        "$$\n",
        "\\frac{dx}{dt} = \\sigma(y-x),\\quad \\frac{dy}{dt} = x(\\rho-z)-y,\\quad \\frac{dz}{dt} = xy - \\beta z, \\quad \\text{for } t \\in [0,3]\n",
        "$$\n",
        "\n",
        "with initial conditions:\n",
        "\n",
        "$$\n",
        "x(0)=-8, \\quad y(0)=7, \\quad z(0)=27.\n",
        "$$\n",
        "\n",
        "\n",
        "The parameters $\\sigma=10, \\rho=15, \\beta=\\frac{8}{3}$ will be identified from observations of the system."
      ]
    },
    {
      "cell_type": "markdown",
      "metadata": {
        "id": "RYMifTavCW9O"
      },
      "source": [
        "# Dataset generation"
      ]
    },
    {
      "cell_type": "code",
      "execution_count": null,
      "metadata": {
        "ExecuteTime": {
          "end_time": "2022-05-27T02:56:06.103469Z",
          "start_time": "2022-05-27T02:56:06.094855Z"
        },
        "id": "ix1XpYFkCW9O"
      },
      "outputs": [],
      "source": [
        "N = 100                                                  # Number of samples\n",
        "t = torch.linspace(0, 3, N).view(-1,1)                   # Input data (N x 1)\n",
        "t_init = torch.zeros([1,1])                              # Input data the initial conditions (1 x 1)\n",
        "y_init = torch.FloatTensor([[-8, 7, 27]])                # Target data the initial conditions (1 x 2)"
      ]
    },
    {
      "cell_type": "markdown",
      "metadata": {
        "id": "70zdSFRBCW9O"
      },
      "source": [
        "# Observations"
      ]
    },
    {
      "cell_type": "code",
      "execution_count": null,
      "metadata": {
        "id": "oN3eX52D19QT"
      },
      "outputs": [],
      "source": [
        "t_obs = np.array([0.        , 0.01071738, 0.06430429, 0.1226244 , 0.20389738,\n",
        "        0.2774039 , 0.36605932, 0.46484636, 0.57747023, 0.74410941,\n",
        "        0.87815709, 1.01220478, 1.15004686, 1.28280759, 1.42510765,\n",
        "        1.58172756, 1.75397377, 1.89764233, 2.04923335, 2.18795955,\n",
        "        2.37650218, 2.53747737, 2.69922368, 2.86424061, 3.        ])\n",
        "t_obs = t_obs.reshape(-1,1)"
      ]
    },
    {
      "cell_type": "code",
      "execution_count": null,
      "metadata": {
        "id": "V6H2IUEs3N94"
      },
      "outputs": [],
      "source": [
        "print(t_obs)"
      ]
    },
    {
      "cell_type": "code",
      "execution_count": null,
      "metadata": {
        "id": "z20M0fzR2QP7"
      },
      "outputs": [],
      "source": [
        "y_obs = np.array([[-8.        ,  7.        , 27.        ],\n",
        "       [-6.43173669,  7.79759441, 25.67505643],\n",
        "       [-0.18252838,  8.79152601, 20.99658492],\n",
        "       [ 3.57229135,  7.8080735 , 18.84537886],\n",
        "       [ 5.36627   ,  6.04992857, 17.53854034],\n",
        "       [ 5.35148452,  4.86286885, 16.37038521],\n",
        "       [ 4.80410766,  4.21204751, 14.7105038 ],\n",
        "       [ 4.43677847,  4.32840418, 12.97581442],\n",
        "       [ 4.67479693,  5.19409195, 11.68338672],\n",
        "       [ 6.10611558,  7.17187101, 12.03234314],\n",
        "       [ 7.31176996,  7.84794249, 14.31934288],\n",
        "       [ 7.19516841,  6.50968885, 16.07157003],\n",
        "       [ 5.8841517 ,  4.90853799, 15.33987161],\n",
        "       [ 4.98045591,  4.66005794, 13.55172674],\n",
        "       [ 5.07979114,  5.50379208, 12.22259948],\n",
        "       [ 6.13917344,  6.9487189 , 12.56718792],\n",
        "       [ 7.12620686,  7.25485305, 14.78184719],\n",
        "       [ 6.64255444,  5.94601342, 15.58157268],\n",
        "       [ 5.56305455,  5.00705484, 14.43028767],\n",
        "       [ 5.20087412,  5.24738741, 13.07585151],\n",
        "       [ 5.91620229,  6.51374294, 12.72609034],\n",
        "       [ 6.7730354 ,  7.09368059, 14.11026311],\n",
        "       [ 6.66760163,  6.24642224, 15.19672982],\n",
        "       [ 5.79518366,  5.32118749, 14.49148477],\n",
        "       [ 5.43023844,  5.39174263, 13.43834563]])"
      ]
    },
    {
      "cell_type": "code",
      "execution_count": null,
      "metadata": {
        "ExecuteTime": {
          "end_time": "2022-05-27T02:56:06.727294Z",
          "start_time": "2022-05-27T02:56:06.720541Z"
        },
        "id": "Bp8S4bGjCW9O"
      },
      "outputs": [],
      "source": [
        "t_obs = torch.FloatTensor(t_obs)\n",
        "y_obs = torch.FloatTensor(y_obs)"
      ]
    },
    {
      "cell_type": "code",
      "execution_count": null,
      "metadata": {
        "ExecuteTime": {
          "end_time": "2022-05-27T02:56:07.232376Z",
          "start_time": "2022-05-27T02:56:06.920691Z"
        },
        "id": "QoGoNQLpCW9P",
        "scrolled": false
      },
      "outputs": [],
      "source": [
        "from mpl_toolkits.mplot3d import Axes3D\n",
        "fig = plt.figure(figsize=(6,6))\n",
        "ax = fig.add_subplot(111, projection='3d')\n",
        "ax.scatter(-8,7,27, marker='*', s=100, color='r')\n",
        "ax.plot(data['y'][:,0],data['y'][:,1],data['y'][:,2], 'b')\n",
        "ax.plot(data['y'][:,0],data['y'][:,1],data['y'][:,2], 'bo')\n",
        "plt.savefig('lorenz_data', dpi=100)"
      ]
    },
    {
      "cell_type": "markdown",
      "metadata": {
        "id": "neCDdIfYCW9P"
      },
      "source": [
        "# Neural Network"
      ]
    },
    {
      "cell_type": "code",
      "execution_count": null,
      "metadata": {
        "ExecuteTime": {
          "end_time": "2022-05-26T12:24:23.411822Z",
          "start_time": "2022-05-26T12:24:23.406546Z"
        },
        "id": "jnACmuOiCW9P"
      },
      "outputs": [],
      "source": [
        "class model(nn.Module) :\n",
        "    def __init__(self) :\n",
        "        super(model, self).__init__()\n",
        "        self.layer1 = nn.Linear(1,64)\n",
        "        self.layer2 = nn.Linear(64,64)\n",
        "        self.layer3 = nn.Linear(64,64)\n",
        "        self.layer4 = nn.Linear(64,3) # 2nd_h_dim = 64, out_dim = 3 (x, y, z)\n",
        "        self.act = nn.Tanh()\n",
        "\n",
        "    def forward(self, x) :\n",
        "        x = self.layer1(x)\n",
        "        x = self.act(x)\n",
        "\n",
        "        x = self.act(self.layer2(x))\n",
        "        x = self.act(self.layer3(x))\n",
        "        x = self.layer4(x)\n",
        "        return x"
      ]
    },
    {
      "cell_type": "markdown",
      "metadata": {
        "id": "ZCnLBydtCW9P"
      },
      "source": [
        "# Loss function, Optimizer, Additional Parameters"
      ]
    },
    {
      "cell_type": "code",
      "execution_count": null,
      "metadata": {
        "ExecuteTime": {
          "end_time": "2022-05-27T02:56:25.887987Z",
          "start_time": "2022-05-27T02:56:25.872970Z"
        },
        "id": "t1cm5Cm0CW9P"
      },
      "outputs": [],
      "source": [
        "# Prepare for training\n",
        "\n",
        "network = model()\n",
        "t = t.requires_grad_(True)\n",
        "\n",
        "sigma = torch.ones(1).requires_grad_(True)            # Parameter approximator\n",
        "rho = torch.ones(1).requires_grad_(True)              # Parameter approximator\n",
        "beta = torch.ones(1).requires_grad_(True)             # Parameter approximator\n",
        "\n",
        "loss_f = nn.MSELoss()                                            # Mean Square Error loss function\n",
        "optimizer = optim.Adam([{'params': network.parameters()},\\\n",
        "                        {'params': sigma, 'lr':1e-1}, {'params': rho, 'lr':1e-1},\\\n",
        "                        {'params': beta, 'lr':1e-1}], lr=1e-3)              # Adam optimizer\n",
        "EPOCHS = 100000                                                   # Number of Training Iterations"
      ]
    },
    {
      "cell_type": "markdown",
      "metadata": {
        "id": "an2jYyJtCW9P"
      },
      "source": [
        "# Compute $\\frac{dy}{dt}$"
      ]
    },
    {
      "cell_type": "code",
      "execution_count": null,
      "metadata": {
        "ExecuteTime": {
          "end_time": "2022-05-26T12:24:27.450056Z",
          "start_time": "2022-05-26T12:24:27.445536Z"
        },
        "id": "g9TweOwaCW9P"
      },
      "outputs": [],
      "source": [
        "def der(y, t) :\n",
        "    return torch.autograd.grad(y, t, create_graph=True,\\\n",
        "                               grad_outputs=torch.ones(y.size()))[0]"
      ]
    },
    {
      "cell_type": "code",
      "execution_count": null,
      "metadata": {
        "ExecuteTime": {
          "end_time": "2022-05-26T11:43:06.296519Z",
          "start_time": "2022-05-26T11:18:44.050766Z"
        },
        "id": "VGUA8GnvCW9P",
        "scrolled": true
      },
      "outputs": [],
      "source": [
        "# Train\n",
        "loss_list = []\n",
        "sigma_list, rho_list, beta_list = [], [], []\n",
        "network.train()\n",
        "\n",
        "for i in range(1, EPOCHS+1) :\n",
        "    optimizer.zero_grad()\n",
        "    output = network(t)\n",
        "    output_init = network(t_init)\n",
        "    output_obs = network(t_obs)\n",
        "\n",
        "    dy1 = der(output[:,0], t).view(-1)\n",
        "    dy2 = der(output[:,1], t).view(-1)\n",
        "    dy3 = der(output[:,2], t).view(-1)\n",
        "\n",
        "    loss_init = loss_f(output_init, y_init)\n",
        "    loss_obs = loss_f(output_obs, y_obs)\n",
        "    loss_ge = loss_f(dy1 - sigma*(output[:,1]-output[:,0]), torch.zeros_like(dy1)) +\\\n",
        "                loss_f(dy2 - output[:,0]*(rho-output[:,2]) + output[:,1], torch.zeros_like(dy2))+\\\n",
        "                loss_f(dy3 - output[:,0]*output[:,1] + beta*output[:,2], torch.zeros_like(dy3))\n",
        "\n",
        "    loss = loss_ge + loss_init + loss_obs\n",
        "    loss.backward()\n",
        "    optimizer.step()\n",
        "\n",
        "    loss_list.append(loss.item())\n",
        "    sigma_list.append(sigma.item())\n",
        "    rho_list.append(rho.item())\n",
        "    beta_list.append(beta.item())\n",
        "\n",
        "    if not i % 1000 :\n",
        "        print('EPOCH : %6d/%6d | Loss_ge : %8.7f | Loss_init : %8.7f | Loss_obs : %8.7f' \\\n",
        "              %(i, EPOCHS, loss_ge.item(), loss_init.item(), loss_obs.item()))\n",
        "print('Training Finished.')"
      ]
    },
    {
      "cell_type": "code",
      "execution_count": null,
      "metadata": {
        "ExecuteTime": {
          "end_time": "2022-05-27T02:56:31.491465Z",
          "start_time": "2022-05-27T02:56:31.393216Z"
        },
        "id": "TNxG9TzNCW9P"
      },
      "outputs": [],
      "source": [
        "#torch.save([network, sigma_list, rho_list, beta_list], 'Lorenz.pt')\n",
        "#network, sigma_list, rho_list, beta_list = torch.load('Lorenz.pt', map_location=device)"
      ]
    },
    {
      "cell_type": "code",
      "execution_count": null,
      "metadata": {
        "ExecuteTime": {
          "end_time": "2022-05-27T02:57:01.490294Z",
          "start_time": "2022-05-27T02:57:00.835039Z"
        },
        "id": "yG2zFTh8CW9P",
        "scrolled": false
      },
      "outputs": [],
      "source": [
        "fig = plt.figure(figsize=(12,6))\n",
        "ax = fig.add_subplot(121, projection='3d')\n",
        "ax.scatter(-8,7,27, marker='*', s=100, color='r')\n",
        "ax.plot(data['y'][:,0], data['y'][:,1], data['y'][:,2], 'b')\n",
        "ax.plot(data['y'][:,0], data['y'][:,1], data['y'][:,2], 'bo')\n",
        "ax.set_title('Reference Solution', fontsize=15)\n",
        "\n",
        "ax = fig.add_subplot(122, projection='3d')\n",
        "ax.scatter(-8,7,27, marker='*', s=100, color='r')\n",
        "prediction = network(t).cpu().detach()\n",
        "ax.plot(prediction[:,0], prediction[:,1], prediction[:,2], 'b')\n",
        "#ax.plot(prediction[:,0], prediction[:,1], prediction[:,2], 'bo')\n",
        "ax.set_title('Trained Neural Network Solution', fontsize=15)\n",
        "plt.savefig('lorenz', dpi=100)"
      ]
    },
    {
      "cell_type": "code",
      "execution_count": null,
      "metadata": {
        "ExecuteTime": {
          "end_time": "2022-05-26T12:25:04.639578Z",
          "start_time": "2022-05-26T12:25:03.916044Z"
        },
        "id": "J7smFc_oCW9P",
        "scrolled": false
      },
      "outputs": [],
      "source": [
        "figure = plt.figure(figsize=(15,5))\n",
        "ax1 = figure.add_subplot(1,3,1)\n",
        "ax1.plot(sigma_list)\n",
        "ax1.set_title('$\\sigma$')\n",
        "ax1.set_xlabel('epoch')\n",
        "ax1.hlines(10, 0, 100000, label='True $\\sigma$')\n",
        "\n",
        "ax2 = figure.add_subplot(1,3,2)\n",
        "ax2.plot(rho_list)\n",
        "ax2.set_title('$\\\\rho$')\n",
        "ax2.set_xlabel('epoch')\n",
        "ax2.hlines(15, 0, 100000, label='True $\\\\rho$')\n",
        "\n",
        "ax3 = figure.add_subplot(1,3,3)\n",
        "ax3.plot(beta_list)\n",
        "ax3.set_title('$\\\\beta$')\n",
        "ax3.set_xlabel('epoch')\n",
        "ax3.hlines(8/3, 0, 100000, label='True $\\\\beta$')\n",
        "plt.savefig('lorenz2', dpi=100)"
      ]
    },
    {
      "cell_type": "code",
      "execution_count": null,
      "metadata": {
        "id": "DAr_Dc2H31Qc"
      },
      "outputs": [],
      "source": []
    }
  ],
  "metadata": {
    "colab": {
      "provenance": []
    },
    "kernelspec": {
      "display_name": "Aries",
      "language": "python",
      "name": "python3"
    },
    "language_info": {
      "codemirror_mode": {
        "name": "ipython",
        "version": 3
      },
      "file_extension": ".py",
      "mimetype": "text/x-python",
      "name": "python",
      "nbconvert_exporter": "python",
      "pygments_lexer": "ipython3",
      "version": "3.11.11"
    }
  },
  "nbformat": 4,
  "nbformat_minor": 0
}
