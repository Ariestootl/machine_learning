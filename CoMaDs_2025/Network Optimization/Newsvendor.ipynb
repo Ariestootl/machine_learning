{
  "cells": [
    {
      "cell_type": "code",
      "execution_count": null,
      "metadata": {
        "colab": {
          "base_uri": "https://localhost:8080/"
        },
        "id": "w9Ct4D2Ga4Vg",
        "outputId": "a7c03da4-de0a-4b70-87c9-eb27eb836882"
      },
      "outputs": [
        {
          "name": "stdout",
          "output_type": "stream",
          "text": [
            "Collecting gurobipy\n",
            "  Downloading gurobipy-12.0.1-cp311-cp311-manylinux2014_x86_64.manylinux_2_17_x86_64.whl.metadata (16 kB)\n",
            "Downloading gurobipy-12.0.1-cp311-cp311-manylinux2014_x86_64.manylinux_2_17_x86_64.whl (14.4 MB)\n",
            "\u001b[2K   \u001b[90m━━━━━━━━━━━━━━━━━━━━━━━━━━━━━━━━━━━━━━━━\u001b[0m \u001b[32m14.4/14.4 MB\u001b[0m \u001b[31m52.9 MB/s\u001b[0m eta \u001b[36m0:00:00\u001b[0m\n",
            "\u001b[?25hInstalling collected packages: gurobipy\n",
            "Successfully installed gurobipy-12.0.1\n"
          ]
        }
      ],
      "source": [
        "pip install gurobipy"
      ]
    },
    {
      "cell_type": "code",
      "execution_count": 2,
      "metadata": {
        "id": "lyjsyFW9lm37"
      },
      "outputs": [],
      "source": [
        "import gurobipy as gp\n",
        "import numpy as np\n",
        "from gurobipy import GRB"
      ]
    },
    {
      "cell_type": "code",
      "execution_count": 3,
      "metadata": {
        "colab": {
          "base_uri": "https://localhost:8080/"
        },
        "id": "eI2Oq-mVa4wP",
        "outputId": "cfcc3e7c-1edc-413e-a4ee-99b87ca27640"
      },
      "outputs": [
        {
          "name": "stdout",
          "output_type": "stream",
          "text": [
            "Restricted license - for non-production use only - expires 2026-11-23\n",
            "You have to buy 7.0 copies\n",
            "Obj: 26.47\n"
          ]
        }
      ],
      "source": [
        "# np.random.seed(1)\n",
        "n_scenarios = 1000\n",
        "price = 10\n",
        "cost = 3\n",
        "scenarios = range(n_scenarios)\n",
        "demand = np.random.randint(1, 10, size=n_scenarios)\n",
        "\n",
        "# Create a new model\n",
        "m = gp.Model(\"news_vendor\")\n",
        "m.setParam('OutputFlag', 0)  # Disable verbose output\n",
        "\n",
        "# Create variables\n",
        "x = m.addVar(vtype=GRB.INTEGER, name=\"x\")\n",
        "\n",
        "y = m.addVars(\n",
        "    n_scenarios, vtype=GRB.INTEGER, name=\"y\"\n",
        ")\n",
        "\n",
        "# Set objective\n",
        "m.setObjective(price * gp.quicksum(y[s] for s in scenarios) / n_scenarios - cost * x, GRB.MAXIMIZE)\n",
        "\n",
        "m.addConstrs((y[s] <= x for s in scenarios), \"bound_y_x\")\n",
        "m.addConstrs((y[s] <= demand[s] for s in scenarios), \"bound_y_demand\")\n",
        "\n",
        "# Optimize model\n",
        "m.optimize()\n",
        "\n",
        "print(f\"You have to buy {x.X} copies\")\n",
        "x_opt = x.X\n",
        "print(f\"Obj: {m.ObjVal:g}\")\n"
      ]
    },
    {
      "cell_type": "markdown",
      "metadata": {
        "id": "lH27CM7HuTcW"
      },
      "source": [
        "# Why the solution is not to buy 5.5 copies?"
      ]
    },
    {
      "cell_type": "code",
      "execution_count": null,
      "metadata": {
        "colab": {
          "base_uri": "https://localhost:8080/"
        },
        "id": "WJnXyocPrzV2",
        "outputId": "c858c110-ff69-4461-cde6-d934354f6e55"
      },
      "outputs": [
        {
          "name": "stdout",
          "output_type": "stream",
          "text": [
            "Out of sample estimation: 16.00\n"
          ]
        }
      ],
      "source": [
        "n_scenarios_out_of_samples = 10\n",
        "demand_out_of_sample = np.random.randint(1, 10, size=n_scenarios_out_of_samples) # E\n",
        "sold_items = np.minimum(demand_out_of_sample, x_opt)\n",
        "\n",
        "of_out_of_sample = price * sum(sold_items) / n_scenarios_out_of_samples - cost * x_opt\n",
        "print(f\"Out of sample estimation: {of_out_of_sample:.2f}\")"
      ]
    },
    {
      "cell_type": "markdown",
      "metadata": {
        "id": "gCgLDTDlurWt"
      },
      "source": [
        "# What is the out of sample performance of the solution?"
      ]
    },
    {
      "cell_type": "code",
      "execution_count": null,
      "metadata": {
        "id": "66uEWg9guwIg"
      },
      "outputs": [],
      "source": []
    }
  ],
  "metadata": {
    "colab": {
      "provenance": []
    },
    "kernelspec": {
      "display_name": "Aries",
      "language": "python",
      "name": "python3"
    },
    "language_info": {
      "codemirror_mode": {
        "name": "ipython",
        "version": 3
      },
      "file_extension": ".py",
      "mimetype": "text/x-python",
      "name": "python",
      "nbconvert_exporter": "python",
      "pygments_lexer": "ipython3",
      "version": "3.11.11"
    }
  },
  "nbformat": 4,
  "nbformat_minor": 0
}
