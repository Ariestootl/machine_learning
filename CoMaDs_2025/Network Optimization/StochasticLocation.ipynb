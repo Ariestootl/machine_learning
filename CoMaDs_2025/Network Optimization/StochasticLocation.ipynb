{
  "cells": [
    {
      "cell_type": "code",
      "execution_count": null,
      "metadata": {
        "colab": {
          "base_uri": "https://localhost:8080/"
        },
        "id": "DjeCwLQok23P",
        "outputId": "af73867e-b3f4-445c-d05e-6c522327c7b9"
      },
      "outputs": [
        {
          "name": "stdout",
          "output_type": "stream",
          "text": [
            "Collecting gurobipy\n",
            "  Downloading gurobipy-12.0.1-cp311-cp311-manylinux2014_x86_64.manylinux_2_17_x86_64.whl.metadata (16 kB)\n",
            "Downloading gurobipy-12.0.1-cp311-cp311-manylinux2014_x86_64.manylinux_2_17_x86_64.whl (14.4 MB)\n",
            "\u001b[2K   \u001b[90m━━━━━━━━━━━━━━━━━━━━━━━━━━━━━━━━━━━━━━━━\u001b[0m \u001b[32m14.4/14.4 MB\u001b[0m \u001b[31m68.1 MB/s\u001b[0m eta \u001b[36m0:00:00\u001b[0m\n",
            "\u001b[?25hInstalling collected packages: gurobipy\n",
            "Successfully installed gurobipy-12.0.1\n"
          ]
        }
      ],
      "source": [
        "pip install gurobipy"
      ]
    },
    {
      "cell_type": "code",
      "execution_count": 1,
      "metadata": {
        "id": "Ej0e0i0BlPrH"
      },
      "outputs": [],
      "source": [
        "# Import libraries:\n",
        "import numpy as np\n",
        "from time import time\n",
        "import gurobipy as gp\n",
        "from gurobipy import GRB\n",
        "\n",
        "\n",
        "def solve_model(n_facilities, n_customers, n_scenarios, c, q, K, d):\n",
        "  # Generate ranges:\n",
        "  I = range(n_facilities)  # range set for facilities\n",
        "  J = range(n_customers)  # range set for customers\n",
        "  S = range(n_scenarios) # range set for scenarios\n",
        "\n",
        "  # Model\n",
        "  model = gp.Model(\"Stochastic Facility Location\")\n",
        "  model.setParam('OutputFlag', 0)  # Disable verbose output\n",
        "\n",
        "  # Decision variables\n",
        "  y = model.addVars(I, vtype=GRB.BINARY, name=\"y\")  # Facility open/close\n",
        "  x = model.addVars(I, J, S, vtype=GRB.CONTINUOUS, name=\"x\")  # Transported quantity\n",
        "\n",
        "  # Objective function\n",
        "  model.setObjective(\n",
        "      gp.quicksum(c[i] * y[i] for i in I) +\n",
        "      1/n_scenarios * gp.quicksum(q[i, j] * x[i, j, s] for i in I for j in J for s in S),\n",
        "      GRB.MINIMIZE\n",
        "  )\n",
        "\n",
        "  # Constraints\n",
        "  model.addConstrs(\n",
        "      (gp.quicksum(x[i, j, s] for i in I) >= d[s, j] for s in S for j in J),\n",
        "      \"Demand\"\n",
        "  )\n",
        "  model.addConstrs(\n",
        "      (gp.quicksum(x[i, j, s] for j in J) <= K[i] * y[i] for s in S for i in I),\n",
        "      \"Capacity\"\n",
        "  )\n",
        "\n",
        "  # Solve\n",
        "  model.optimize()\n",
        "\n",
        "  return model.objVal, [y[i].x for i in I]\n",
        "\n",
        "def solve_second_stage(n_facilities, n_customers, c, q, K, demand, Y_sol):\n",
        "  # print(n_facilities, n_customers, c, q, K, demand, Y_sol)\n",
        "  # Generate ranges:\n",
        "  I = range(n_facilities)  # range set for facilities\n",
        "  J = range(n_customers)  # range set for customers\n",
        "\n",
        "  # Model\n",
        "  model = gp.Model(\"Facility Location Second Stage\")\n",
        "  model.setParam('OutputFlag', 0)  # Disable verbose output\n",
        "\n",
        "  # Decision variables\n",
        "  x = model.addVars(I, J, vtype=GRB.CONTINUOUS, name=\"x\")  # Transported quantity\n",
        "\n",
        "  # Objective function\n",
        "  model.setObjective(\n",
        "      gp.quicksum(q[i, j] * x[i, j] for i in I for j in J),\n",
        "      GRB.MINIMIZE\n",
        "  )\n",
        "  # Constraints\n",
        "  model.addConstrs(\n",
        "      (gp.quicksum(x[i, j] for i in I) >= demand[j] for j in J),\n",
        "      \"Demand\"\n",
        "  )\n",
        "  model.addConstrs(\n",
        "      (gp.quicksum(x[i, j] for j in J) <= K[i] * Y_sol[i] for i in I),\n",
        "      \"Capacity\"\n",
        "  )\n",
        "\n",
        "  # Solve\n",
        "  model.optimize()\n",
        "  return model.objVal + sum(c[i] * Y_sol[i] for i in I)\n",
        "\n",
        "\n",
        "def get_scenarios(n_scenarios):\n",
        "  # Demand per scenario\n",
        "  return np.random.uniform(\n",
        "      low=5,\n",
        "      high=10,\n",
        "      size = (n_scenarios, n_customers)\n",
        "    ) + 5 * np.random.uniform(\n",
        "      low=0,\n",
        "      high=1,\n",
        "      size = (n_scenarios, n_customers)\n",
        "    )"
      ]
    },
    {
      "cell_type": "code",
      "execution_count": 2,
      "metadata": {
        "id": "bFyWp8d-nI5G"
      },
      "outputs": [],
      "source": [
        "# set seed\n",
        "np.random.seed(3)\n",
        "# Generate instance\n",
        "n_facilities = 6\n",
        "n_customers = 8\n",
        "c = [10] * n_facilities   # Facility opening costs\n",
        "q = np.random.uniform(\n",
        "    low=5,\n",
        "    high=10,\n",
        "    size = (n_facilities, n_customers)\n",
        ") # Transportation cost\n",
        "K = [90] * n_facilities  # Facility capacity"
      ]
    },
    {
      "cell_type": "code",
      "execution_count": null,
      "metadata": {
        "colab": {
          "base_uri": "https://localhost:8080/"
        },
        "id": "oGUMtHQlk4zE",
        "outputId": "10cf3324-3752-4ca9-afe4-353211a406ad"
      },
      "outputs": [
        {
          "name": "stdout",
          "output_type": "stream",
          "text": [
            "Restricted license - for non-production use only - expires 2026-11-23\n",
            "508.85, [1.0, 1.0, 1.0, -0.0, 1.0, 0.0]\n",
            "504.48, [1.0, 1.0, 1.0, 0.0, 1.0, 0.0]\n",
            "533.39, [1.0, 1.0, 1.0, 0.0, 1.0, 0.0]\n",
            "471.85, [1.0, 1.0, 1.0, 0.0, 1.0, 0.0]\n",
            "533.01, [1.0, 1.0, 1.0, -0.0, 1.0, 0.0]\n",
            "505.86, [1.0, 1.0, 1.0, -0.0, 1.0, 0.0]\n",
            "502.23, [0.0, 1.0, 1.0, -0.0, 1.0, 0.0]\n",
            "512.83, [1.0, 1.0, 1.0, -0.0, 1.0, -0.0]\n",
            "533.21, [1.0, 1.0, 1.0, -0.0, 1.0, 0.0]\n",
            "499.50, [1.0, 1.0, 1.0, 0.0, 1.0, -0.0]\n",
            "[471.85,533.39]\n"
          ]
        }
      ],
      "source": [
        "obj_lst = np.ones(10)\n",
        "for i in range(10):\n",
        "  n_scenarios = 3\n",
        "  d = get_scenarios(n_scenarios)\n",
        "  obj, opt_sol = solve_model(n_facilities, n_customers, n_scenarios, c, q, K, d)\n",
        "  print(f\"{obj:.2f}, {opt_sol}\")\n",
        "  obj_lst[i] = obj\n",
        "print(f\"[{min(obj_lst):.2f},{max(obj_lst):.2f}]\")"
      ]
    },
    {
      "cell_type": "markdown",
      "metadata": {
        "id": "pbXeBWc4u4Qo"
      },
      "source": [
        "# Do we reach stability?"
      ]
    },
    {
      "cell_type": "code",
      "execution_count": 4,
      "metadata": {
        "colab": {
          "base_uri": "https://localhost:8080/"
        },
        "id": "pdCZwlc0lggt",
        "outputId": "54b5d5aa-c4ab-4628-b067-a1942d414b0b"
      },
      "outputs": [
        {
          "name": "stdout",
          "output_type": "stream",
          "text": [
            "Restricted license - for non-production use only - expires 2026-11-23\n"
          ]
        },
        {
          "name": "stdout",
          "output_type": "stream",
          "text": [
            "509.36, [1.0, 1.0, 1.0, 0.0, 1.0, -0.0]\n",
            "510.12, [1.0, 1.0, 1.0, -0.0, 1.0, -0.0]\n",
            "524.73, [1.0, 1.0, 1.0, -0.0, 1.0, -0.0]\n",
            "517.40, [1.0, 1.0, 1.0, -0.0, 1.0, -0.0]\n",
            "500.84, [1.0, 1.0, 1.0, -0.0, 1.0, -0.0]\n",
            "519.24, [1.0, 1.0, 1.0, -0.0, 1.0, -0.0]\n",
            "493.20, [1.0, 1.0, 1.0, -0.0, 1.0, -0.0]\n",
            "508.75, [1.0, 1.0, 1.0, -0.0, 1.0, -0.0]\n",
            "504.16, [1.0, 1.0, 1.0, -0.0, 1.0, -0.0]\n",
            "526.54, [1.0, 1.0, 1.0, -0.0, 1.0, 0.0]\n",
            "[493.20,526.54]\n"
          ]
        }
      ],
      "source": [
        "obj_lst = np.ones(10)\n",
        "n_scenarios = 20\n",
        "for i in range(10):\n",
        "  d = get_scenarios(n_scenarios)\n",
        "  obj, opt_sol = solve_model(n_facilities, n_customers, n_scenarios, c, q, K, d)\n",
        "  print(f\"{obj:.2f}, {opt_sol}\")\n",
        "  obj_lst[i] = obj\n",
        "print(f\"[{min(obj_lst):.2f},{max(obj_lst):.2f}]\")"
      ]
    },
    {
      "cell_type": "markdown",
      "metadata": {
        "id": "Sqey92divAAQ"
      },
      "source": [
        "# Do we reach stability?"
      ]
    },
    {
      "cell_type": "code",
      "execution_count": 5,
      "metadata": {
        "colab": {
          "base_uri": "https://localhost:8080/"
        },
        "id": "Vi-XdpWlueuN",
        "outputId": "917ab9c1-d4cf-470e-af08-6e072309d046"
      },
      "outputs": [
        {
          "name": "stdout",
          "output_type": "stream",
          "text": [
            "AVG: 510.89\n"
          ]
        }
      ],
      "source": [
        "# Simulate the second stage\n",
        "N_REPS = 1000\n",
        "of_lst = np.zeros(N_REPS)\n",
        "for i in range(N_REPS):\n",
        "  demand = get_scenarios(1).reshape(n_customers, )\n",
        "  of = solve_second_stage(n_facilities, n_customers, c, q, K, demand, opt_sol)\n",
        "  # print(of)\n",
        "  of_lst[i] = of\n",
        "print(f\"AVG: {np.mean(of_lst):.2f}\")"
      ]
    },
    {
      "cell_type": "code",
      "execution_count": 6,
      "metadata": {
        "colab": {
          "base_uri": "https://localhost:8080/"
        },
        "id": "7gn00kjCn8_q",
        "outputId": "ac2f9ae9-aced-4249-bf96-a9a78e0aeb9f"
      },
      "outputs": [
        {
          "name": "stdout",
          "output_type": "stream",
          "text": [
            "507.30, [1.0, 1.0, 1.0, -0.0, 1.0, -0.0]\n",
            "time EVP: 0.00\n",
            "time stochastic: 0.03\n"
          ]
        }
      ],
      "source": [
        "# VSS\n",
        "# pick average values\n",
        "avg_d = np.mean(get_scenarios(50), axis=0).reshape(1,n_customers)\n",
        "start_time = time()\n",
        "obj_vss, opt_sol_vss = solve_model(n_facilities, n_customers, 1, c, q, K, avg_d)\n",
        "end_time = time()\n",
        "print(f\"{obj_vss:.2f}, {opt_sol_vss}\")\n",
        "print(f\"time EVP: {(end_time-start_time):.2f}\")\n",
        "\n",
        "# Stochastic problem:\n",
        "d = get_scenarios(n_scenarios)\n",
        "start_time = time()\n",
        "obj, opt_sol = solve_model(n_facilities, n_customers, n_scenarios, c, q, K, d)\n",
        "end_time = time()\n",
        "print(f\"time stochastic: {(end_time-start_time):.2f}\")"
      ]
    },
    {
      "cell_type": "markdown",
      "metadata": {
        "id": "TUfzSLM9vFAo"
      },
      "source": [
        "# Is it worth to solve the stochastic problem? why?"
      ]
    },
    {
      "cell_type": "code",
      "execution_count": null,
      "metadata": {
        "id": "3BasdeMWvI82"
      },
      "outputs": [],
      "source": []
    }
  ],
  "metadata": {
    "colab": {
      "provenance": []
    },
    "kernelspec": {
      "display_name": "Aries",
      "language": "python",
      "name": "python3"
    },
    "language_info": {
      "codemirror_mode": {
        "name": "ipython",
        "version": 3
      },
      "file_extension": ".py",
      "mimetype": "text/x-python",
      "name": "python",
      "nbconvert_exporter": "python",
      "pygments_lexer": "ipython3",
      "version": "3.11.11"
    }
  },
  "nbformat": 4,
  "nbformat_minor": 0
}
