{
 "cells": [
  {
   "cell_type": "markdown",
   "metadata": {},
   "source": [
    "# Import modules"
   ]
  },
  {
   "cell_type": "code",
   "execution_count": 2,
   "metadata": {},
   "outputs": [],
   "source": [
    "import torch\n",
    "import torch.nn as nn\n",
    "import torch.nn.functional as F\n",
    "import torchvision\n",
    "import numpy as np\n",
    "import matplotlib.pyplot as plt\n",
    "import unicodedata\n",
    "import string\n",
    "import os\n",
    "from tqdm.auto import tqdm\n",
    "import io\n",
    "import glob\n",
    "import random"
   ]
  },
  {
   "cell_type": "markdown",
   "metadata": {},
   "source": [
    "# Sample Data Preprocessing for the Names Sequential Data"
   ]
  },
  {
   "cell_type": "markdown",
   "metadata": {},
   "source": [
    "## Convert letters into ASCII"
   ]
  },
  {
   "cell_type": "code",
   "execution_count": 3,
   "metadata": {},
   "outputs": [],
   "source": [
    "Letters = string.ascii_letters + \" .,;!@'\"\n",
    "\n",
    "def convert_to_ascii(s):\n",
    "    '''\n",
    "    Unicode string to ASCII: https://stackoverflow.com/a/518232/2809427\n",
    "    '''\n",
    "    return ''.join(\n",
    "        letter for letter in unicodedata.normalize('NFD', s)\n",
    "        if unicodedata.category(letter) != 'Mn'\n",
    "        and letter in Letters\n",
    "    )\n",
    "\n",
    "#Example Usage\n",
    "# print(f\"Convert Café à la mode to ASCII: {convert_to_ascii(\"Café à la mode\")}\")"
   ]
  },
  {
   "cell_type": "markdown",
   "metadata": {},
   "source": [
    "## Perform One-hot encoding use OneHotEncoder from sklearn"
   ]
  },
  {
   "cell_type": "code",
   "execution_count": 4,
   "metadata": {},
   "outputs": [],
   "source": [
    "from sklearn.preprocessing import OneHotEncoder\n",
    "\n",
    "\n",
    "def line_to_one_hot_encoded_tensor(line):\n",
    "    # Convert line to a 2D array of shape (line_length, 1)\n",
    "    line_array = np.array(list(line)).reshape(-1, 1)\n",
    "    \n",
    "    # Initialize OneHotEncoder with the set of allowed ASCII characters\n",
    "    encoder = OneHotEncoder(categories=[list(Letters)], sparse_output=False)\n",
    "    \n",
    "    # Fit and transform the line array to one-hot encoded array\n",
    "    one_hot_encoded = encoder.fit_transform(line_array)\n",
    "    \n",
    "    # Convert the one-hot encoded array to a PyTorch tensor\n",
    "    tensor = torch.tensor(one_hot_encoded, dtype=torch.float32)\n",
    "    return tensor\n",
    "\n",
    "# Example usage\n",
    "# line = \"Hello, world!@\"\n",
    "# tensor = line_to_one_hot_encoded_tensor(line)\n",
    "# print(tensor)"
   ]
  },
  {
   "cell_type": "markdown",
   "metadata": {},
   "source": [
    "## Load the Data and divide Input: names and Output: categories"
   ]
  },
  {
   "cell_type": "code",
   "execution_count": 5,
   "metadata": {},
   "outputs": [],
   "source": [
    "def load_data():\n",
    "    '''\n",
    "    source: https://github.com/patrickloeber/pytorch-examples/blob/master/rnn-name-classification/utils.py \n",
    "    '''\n",
    "    # Build the category_lines dictionary, a list of names per language\n",
    "    category_lines = {}\n",
    "    all_categories = []\n",
    "    \n",
    "    def find_files(path):\n",
    "        return glob.glob(path)\n",
    "    \n",
    "    # Read a file and split into lines\n",
    "    def read_lines(filename):\n",
    "        lines = io.open(filename, encoding='utf-8').read().strip().split('\\n')\n",
    "        return [convert_to_ascii(line) for line in lines]\n",
    "    \n",
    "    for filename in find_files('data/names/*.txt'):\n",
    "        category = os.path.splitext(os.path.basename(filename))[0]\n",
    "        all_categories.append(category)\n",
    "        \n",
    "        lines = read_lines(filename)\n",
    "        category_lines[category] = lines\n",
    "        \n",
    "    return category_lines, all_categories"
   ]
  },
  {
   "cell_type": "markdown",
   "metadata": {},
   "source": []
  },
  {
   "cell_type": "code",
   "execution_count": null,
   "metadata": {},
   "outputs": [],
   "source": [
    "def random_example(category_lines, all_categories):\n",
    "    '''\n",
    "    source: https://github.com/patrickloeber/pytorch-examples/blob/master/rnn-name-classification/utils.py \n",
    "    '''\n",
    "    def random_choice(a):\n",
    "        idx = random.randint(0, len(a) - 1)\n",
    "        return a[idx]\n",
    "    \n",
    "    category = random_choice(all_categories)\n",
    "    line = random_choice(category_lines[category])\n",
    "    category_tensor = torch.tensor([all_categories.index(category)], dtype=torch.long)\n",
    "    line_tensor = line_to_one_hot_encoded_tensor(line)\n",
    "    return category, line, category_tensor, line_tensor\n"
   ]
  },
  {
   "cell_type": "markdown",
   "metadata": {},
   "source": [
    "# Creating NAIVE RNN Model"
   ]
  },
  {
   "cell_type": "code",
   "execution_count": 19,
   "metadata": {},
   "outputs": [],
   "source": [
    "class NaiveRNN(nn.Module):\n",
    "    def __init__(self, input_size, hidden_size, output_size):\n",
    "        super(NaiveRNN, self).__init__()\n",
    "        self.hidden_size = hidden_size\n",
    "        self.input2hidden = nn.Linear(input_size + hidden_size, hidden_size)\n",
    "        self.input2output = nn.Linear(input_size + hidden_size, output_size)\n",
    "        # self.softmax = nn.LogSoftmax(dim=1)\n",
    "\n",
    "    def forward(self, input_data, hidden_layer):\n",
    "        combined = torch.cat((input_data, hidden_layer), 1)\n",
    "        hidden = self.input2hidden(combined)\n",
    "        output = self.input2output(combined)\n",
    "        return output, hidden\n",
    "    \n",
    "    def init_hidden(self):\n",
    "        return torch.zeros(1, self.hidden_layer)"
   ]
  },
  {
   "cell_type": "markdown",
   "metadata": {},
   "source": [
    "## Dummy Data for Model Testing"
   ]
  },
  {
   "cell_type": "code",
   "execution_count": null,
   "metadata": {},
   "outputs": [
    {
     "name": "stdout",
     "output_type": "stream",
     "text": [
      "Input shape: torch.Size([4, 10])\n",
      "Hidden shape: torch.Size([4, 20])\n",
      "Output shape: torch.Size([4, 5])\n",
      "Output: tensor([[-0.0545,  0.1814,  0.0032, -0.5043, -0.4034],\n",
      "        [-0.0982,  0.3429, -0.1974,  0.0364, -0.1794],\n",
      "        [ 0.4941, -0.6254, -0.0274,  0.2372, -0.0259],\n",
      "        [ 0.4371, -0.2034,  0.0966, -0.1574,  0.2628]],\n",
      "       grad_fn=<AddmmBackward0>)\n"
     ]
    }
   ],
   "source": [
    "# Hyperparameters\n",
    "input_size = 10\n",
    "hidden_size = 20\n",
    "output_size = 5\n",
    "sequence_length = 8\n",
    "batch_size = 4\n",
    "\n",
    "# Generate dummy data\n",
    "# Input tensor of shape (batch_size, input_size)\n",
    "dummy_input = torch.randn(batch_size, input_size)\n",
    "# Hidden layer tensor of shape (batch_size, hidden_size)\n",
    "dummy_hidden = torch.zeros(batch_size, hidden_size)\n",
    "\n",
    "# Instantiate the model\n",
    "model = NaiveRNN(input_size, hidden_size, output_size)\n",
    "\n",
    "# Forward pass with dummy data\n",
    "output, hidden = model(dummy_input, dummy_hidden)\n",
    "\n",
    "print(\"Input shape:\", dummy_input.shape)\n",
    "print(\"Hidden shape:\", dummy_hidden.shape)\n",
    "print(\"Output shape:\", output.shape)\n",
    "print(\"Output:\", output)\n"
   ]
  }
 ],
 "metadata": {
  "kernelspec": {
   "display_name": "Aries",
   "language": "python",
   "name": "python3"
  },
  "language_info": {
   "codemirror_mode": {
    "name": "ipython",
    "version": 3
   },
   "file_extension": ".py",
   "mimetype": "text/x-python",
   "name": "python",
   "nbconvert_exporter": "python",
   "pygments_lexer": "ipython3",
   "version": "3.12.9"
  }
 },
 "nbformat": 4,
 "nbformat_minor": 2
}
