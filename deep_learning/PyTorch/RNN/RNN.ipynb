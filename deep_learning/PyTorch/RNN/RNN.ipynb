{
 "cells": [
  {
   "cell_type": "code",
   "execution_count": 2,
   "metadata": {},
   "outputs": [],
   "source": [
    "import torch\n",
    "import torch.nn as nn\n",
    "import torch.nn.functional as F\n",
    "import torchvision\n",
    "import numpy as np\n",
    "import matplotlib.pyplot as plt\n",
    "import unicodedata\n",
    "import string\n",
    "import os\n",
    "from tqdm.auto import tqdm\n",
    "import io\n",
    "import glob\n",
    "import random"
   ]
  },
  {
   "cell_type": "code",
   "execution_count": null,
   "metadata": {},
   "outputs": [],
   "source": [
    "input_size = 28\n",
    "sequence_length = 28\n",
    "num_classes = 10\n",
    "num_layers = 2\n",
    "hidden_size = 256\n",
    "learning_rate = 0.001\n",
    "batch_size = 32\n",
    "num_of_epochs = 5"
   ]
  },
  {
   "cell_type": "markdown",
   "metadata": {},
   "source": [
    "# Creating RNN Models"
   ]
  },
  {
   "cell_type": "markdown",
   "metadata": {},
   "source": [
    "## RNN version 1"
   ]
  },
  {
   "cell_type": "code",
   "execution_count": 3,
   "metadata": {},
   "outputs": [],
   "source": [
    "class RNNversion1(nn.Module):\n",
    "    def __init__(self, input_size, hidden_size, num_layers, num_classes):\n",
    "        super(RNNversion1, self).__init__()\n",
    "        self.hidden_size = hidden_size\n",
    "        self.num_layers = num_layers\n",
    "        \n",
    "        self.rnn = nn.RNN(input_size, hidden_size, num_layers, batch_first=True)\n",
    "        self.fc = nn.Linear(hidden_size, num_classes)\n",
    "\n",
    "    def forward(self, x: torch.Tensor):\n",
    "       initial_hidden_state = torch.zeros(self.num_layers, x.size(0),self.hidden_size)\n",
    "       x, _ = self.rnn(x, initial_hidden_state)\n",
    "       x  = x[:, -1, :]\n",
    "       x = self.fc(x)\n",
    "       return x"
   ]
  },
  {
   "cell_type": "markdown",
   "metadata": {},
   "source": [
    "## RNN Version 2"
   ]
  },
  {
   "cell_type": "code",
   "execution_count": 80,
   "metadata": {},
   "outputs": [],
   "source": [
    "class RNNversion2(nn.Module):\n",
    "    def __init__(self, input_size, hidden_size, num_layers, num_classes):\n",
    "        super(RNNversion2, self).__init__()\n",
    "        self.hidden_size = hidden_size\n",
    "        self.num_layers = num_layers\n",
    "        \n",
    "        self.rnn = nn.RNN(input_size, hidden_size, num_layers, batch_first=True)\n",
    "        self.fc = nn.Linear(hidden_size*sequence_length, num_classes)\n",
    "\n",
    "    def forward(self, x: torch.Tensor):\n",
    "        ##initialize hidden state\n",
    "        initial_hidden_state = torch.zeros(self.num_layers, x.size(0),self.hidden_size)\n",
    "        x, _ = self.rnn(x, initial_hidden_state)\n",
    "        x = x.reshape(x.shape[0], -1)\n",
    "        x = self.fc(x)\n",
    "        return x"
   ]
  },
  {
   "cell_type": "markdown",
   "metadata": {},
   "source": [
    "## LSTM"
   ]
  },
  {
   "cell_type": "code",
   "execution_count": 4,
   "metadata": {},
   "outputs": [],
   "source": [
    "class MyModel(nn.Module):\n",
    "    def __init__(self, input_size, hidden_size, num_layers, output_size):\n",
    "        super(MyModel, self).__init__()\n",
    "        self.hidden_size = hidden_size\n",
    "        self.num_layers = num_layers\n",
    "        \n",
    "        self.lstm = nn.LSTM(input_size, hidden_size, num_layers, batch_first=True)\n",
    "        self.fc = nn.Sequential(\n",
    "            # nn.Flatten(start_dim=1),\n",
    "            nn.Linear(hidden_size, hidden_size),\n",
    "            nn.ReLU(),\n",
    "            nn.Linear(hidden_size, output_size)\n",
    "        )\n",
    "    def forward(self, x: torch.Tensor, h0=None, c0=None):\n",
    "        ##initialize hidden state\n",
    "        if h0 is None or c0 is None:\n",
    "            h0 = torch.zeros(self.num_layers, x.size(0),self.hidden_size)\n",
    "            c0 = torch.zeros(self.num_layers, x.size(0),self.hidden_size)\n",
    "        x, _ = self.lstm(x, (h0, c0))\n",
    "        x = x[:, -1, :]\n",
    "        x = self.fc(x)\n",
    "        return x"
   ]
  },
  {
   "cell_type": "code",
   "execution_count": 5,
   "metadata": {},
   "outputs": [],
   "source": [
    "# cnn_params = [16, 32, \"MaxPool\"]\n",
    "cnn_params = [16, 32, 64, \"MaxPool\"]\n",
    "class CNN1D(nn.Module):\n",
    "    def __init__(self, input):\n",
    "        super(CNN1D, self).__init__()\n",
    "        self.input = input\n",
    "        self.conv_blocks = self.create_conv_blocks(cnn_params)\n",
    "        \n",
    "    def create_conv_blocks(self, architecture):\n",
    "        layers = []\n",
    "        input = self.input\n",
    "\n",
    "        for x in architecture:\n",
    "            if type(x) == int:\n",
    "                output = x\n",
    "                layers += [nn.Conv1d(input, output, \n",
    "                        kernel_size=2, stride=1, padding=0),\n",
    "                        nn.BatchNorm1d(x),\n",
    "                        nn.SiLU()]\n",
    "\n",
    "                input = x  # Update input channels\n",
    "            elif x == \"MaxPool\":\n",
    "                layers += [nn.MaxPool1d(kernel_size=2, stride=1)]\n",
    "\n",
    "        return nn.Sequential(*layers)\n",
    "\n",
    "    def forward(self, x):\n",
    "        x = x.permute(0, 2, 1)  # (batch, features, time_steps) → (batch, channels, time_steps)\n",
    "        x = self.conv_blocks(x)\n",
    "        return x  # Output shape: (batch, channels, reduced_time_steps)\n",
    "\n",
    "class MainModel(nn.Module):\n",
    "    def __init__(self, input_size=16, hidden_size=100, num_layers=3, output_size=1):\n",
    "        super(MainModel, self).__init__()\n",
    "        self.num_layers = num_layers  \n",
    "        self.hidden_size = hidden_size\n",
    "        self.cnn = CNN1D(input_size)\n",
    "        self.lstm = nn.LSTM(input_size=64, hidden_size=hidden_size, num_layers=num_layers, batch_first=True)\n",
    "        self.fc = nn.Sequential(\n",
    "            nn.Linear(hidden_size, output_size), \n",
    "        )\n",
    "\n",
    "    def forward(self, x: torch.Tensor, h0=None, c0=None):\n",
    "        x = self.cnn(x)\n",
    "        x = x.permute(0, 2, 1)  # (batch, channels, time) → (batch, time, channels)\n",
    "        if h0 is None or c0 is None:\n",
    "            h0 = torch.zeros(self.num_layers, x.size(0),self.hidden_size)\n",
    "            c0 = torch.zeros(self.num_layers, x.size(0),self.hidden_size)\n",
    "            # h0 = torch.randn(self.num_layers, x.size(0), self.hidden_size) * 0.02\n",
    "            # c0 = torch.randn(self.num_layers, x.size(0), self.hidden_size) * 0.02\n",
    "        x, _ = self.lstm(x, (h0, c0))\n",
    "        x = x[:, -1, :]\n",
    "        x = self.fc(x) \n",
    "        return x\n"
   ]
  },
  {
   "cell_type": "code",
   "execution_count": 12,
   "metadata": {},
   "outputs": [
    {
     "name": "stdout",
     "output_type": "stream",
     "text": [
      "Output shape: torch.Size([4, 50])\n",
      "Output: tensor([[ 0.0382,  0.0258, -0.0794, -0.0333,  0.0428,  0.0683, -0.0161, -0.1159,\n",
      "         -0.0077, -0.0243,  0.0260,  0.0108,  0.0755,  0.0415, -0.0002,  0.0283,\n",
      "         -0.0131,  0.0519, -0.0693,  0.0714, -0.0221, -0.0531, -0.0494, -0.1235,\n",
      "         -0.0257,  0.0996, -0.1192,  0.0287,  0.0228, -0.0788,  0.0842,  0.0196,\n",
      "         -0.0761, -0.0274,  0.0693,  0.0882, -0.0387, -0.0659,  0.0592, -0.0122,\n",
      "         -0.0551,  0.0001,  0.0027, -0.0318,  0.0574,  0.0788, -0.0406,  0.0152,\n",
      "         -0.0415,  0.1062],\n",
      "        [ 0.0382,  0.0258, -0.0794, -0.0333,  0.0428,  0.0683, -0.0161, -0.1159,\n",
      "         -0.0077, -0.0243,  0.0260,  0.0108,  0.0755,  0.0415, -0.0002,  0.0283,\n",
      "         -0.0131,  0.0519, -0.0693,  0.0714, -0.0221, -0.0531, -0.0494, -0.1235,\n",
      "         -0.0257,  0.0996, -0.1192,  0.0287,  0.0228, -0.0788,  0.0842,  0.0196,\n",
      "         -0.0761, -0.0274,  0.0693,  0.0882, -0.0387, -0.0659,  0.0592, -0.0122,\n",
      "         -0.0551,  0.0001,  0.0027, -0.0318,  0.0574,  0.0788, -0.0406,  0.0152,\n",
      "         -0.0415,  0.1062],\n",
      "        [ 0.0382,  0.0258, -0.0794, -0.0333,  0.0428,  0.0683, -0.0161, -0.1159,\n",
      "         -0.0077, -0.0243,  0.0260,  0.0108,  0.0755,  0.0415, -0.0002,  0.0283,\n",
      "         -0.0131,  0.0519, -0.0693,  0.0714, -0.0221, -0.0531, -0.0494, -0.1235,\n",
      "         -0.0257,  0.0996, -0.1192,  0.0287,  0.0228, -0.0788,  0.0842,  0.0196,\n",
      "         -0.0761, -0.0274,  0.0693,  0.0882, -0.0387, -0.0659,  0.0592, -0.0122,\n",
      "         -0.0551,  0.0001,  0.0027, -0.0318,  0.0574,  0.0788, -0.0406,  0.0152,\n",
      "         -0.0415,  0.1062],\n",
      "        [ 0.0382,  0.0258, -0.0794, -0.0333,  0.0428,  0.0683, -0.0161, -0.1159,\n",
      "         -0.0077, -0.0243,  0.0260,  0.0108,  0.0755,  0.0415, -0.0002,  0.0283,\n",
      "         -0.0131,  0.0519, -0.0693,  0.0714, -0.0221, -0.0531, -0.0494, -0.1235,\n",
      "         -0.0257,  0.0996, -0.1192,  0.0287,  0.0228, -0.0788,  0.0842,  0.0196,\n",
      "         -0.0761, -0.0274,  0.0693,  0.0882, -0.0387, -0.0659,  0.0592, -0.0122,\n",
      "         -0.0551,  0.0001,  0.0027, -0.0318,  0.0574,  0.0788, -0.0406,  0.0152,\n",
      "         -0.0415,  0.1062]], grad_fn=<AddmmBackward0>)\n"
     ]
    }
   ],
   "source": [
    "# Hyperparameters\n",
    "input_size = 2\n",
    "hidden_size = 100\n",
    "num_layers = 20\n",
    "num_classes = 50\n",
    "sequence_length = 10\n",
    "batch_size = 4\n",
    "\n",
    "# Generate dummy data\n",
    "# Input tensor of shape (batch_size, sequence_length, input_size)\n",
    "dummy_input = torch.randn(batch_size, sequence_length, input_size)\n",
    "\n",
    "# Instantiate the model\n",
    "# model1 = RNNversion1(input_size, hidden_size, num_layers, num_classes)\n",
    "# model2 = RNNversion2(input_size, hidden_size, num_layers, num_classes)\n",
    "model2 = MainModel(input_size, hidden_size, num_layers, num_classes)\n",
    "\n",
    "# Forward pass with dummy data\n",
    "# output1 = model1(dummy_input)\n",
    "output2 = model2(dummy_input)\n",
    "\n",
    "# print(\"Input shape:\", dummy_input.shape)\n",
    "# print(\"Output shape:\", output1.shape)\n",
    "# print(\"Output:\", output1)\n",
    "print(\"Output shape:\", output2.shape)\n",
    "print(\"Output:\", output2)"
   ]
  }
 ],
 "metadata": {
  "kernelspec": {
   "display_name": "Aries",
   "language": "python",
   "name": "python3"
  },
  "language_info": {
   "codemirror_mode": {
    "name": "ipython",
    "version": 3
   },
   "file_extension": ".py",
   "mimetype": "text/x-python",
   "name": "python",
   "nbconvert_exporter": "python",
   "pygments_lexer": "ipython3",
   "version": "3.12.9"
  }
 },
 "nbformat": 4,
 "nbformat_minor": 2
}
