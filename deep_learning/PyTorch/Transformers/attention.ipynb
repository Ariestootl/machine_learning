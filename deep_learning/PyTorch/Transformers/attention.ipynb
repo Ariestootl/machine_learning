{
 "cells": [
  {
   "cell_type": "code",
   "execution_count": 2,
   "metadata": {},
   "outputs": [],
   "source": [
    "import torch\n",
    "import torch.nn as nn\n",
    "import numpy as np"
   ]
  },
  {
   "cell_type": "code",
   "execution_count": null,
   "metadata": {},
   "outputs": [],
   "source": [
    "class Attention(nn.Module):\n",
    "    '''\n",
    "    Experimental implementation of the scaled dot-product attention mechanism\n",
    "    and not yet fully implemented\n",
    "    '''\n",
    "    def __init__(self, embed_size, heads):\n",
    "        super(Attention, self).__init__()\n",
    "        self.embed_size = embed_size\n",
    "        self.heads = heads\n",
    "        self.head_dim = embed_size // heads\n",
    "\n",
    "        assert (\n",
    "            self.head_dim * heads == embed_size\n",
    "        ), \"Embed size needs to be divisible by heads\"\n",
    "\n",
    "        self.values = nn.Linear(self.head_dim, self.head_dim, bias=False)\n",
    "        self.keys = nn.Linear(self.head_dim, self.head_dim, bias=False)\n",
    "        self.queries = nn.Linear(self.head_dim, self.head_dim, bias=False)\n",
    "        self.fc_out = nn.Linear(heads * self.head_dim, embed_size)\n",
    "\n",
    "    def forward(self, values, keys, query, mask=None):\n",
    "        N = query.shape[0]\n",
    "        value_len, key_len, query_len = values.shape[1], keys.shape[1], query.shape[1]\n",
    "\n",
    "        # Split the embedding into self\n",
    "        values = values.reshape(N, value_len, self.heads, self.head_dim)\n",
    "        keys = keys.reshape(N, key_len, self.heads, self.head_dim)\n",
    "        query = query.reshape(N, query_len, self.heads, self.head_dim)\n",
    "\n",
    "        energy  = torch.einsum(\"nqhd,nkhd->nhqk\", [query, keys])\n",
    "        # queries shape: (N, query_len, heads, head_dim)\n",
    "        # keys shape: (N, key_len, heads, head_dim)\n",
    "        # energy shape: (N, heads, query_len, key_len)\n",
    "\n",
    "        if mask is not None:\n",
    "            energy = energy.masked_fill(mask == 0, float(\"-1e20\"))\n",
    "        attention = torch.softmax(energy / (self.embed_size ** (1 / 2)), dim=3)\n",
    "\n",
    "        out = torch.einsum(\"nqhd,nkhd->nhqk\", [query, keys])\n",
    "        # attention shape: (N, heads, query_len, key_len)\n",
    "        # values shape: (N, value_len, heads, heads_dim)\n",
    "        # out shape: (N, query_len, heads, head_dim)\n",
    "        \n",
    "        out = torch.einsum()\n",
    "        # attention shape: (N, heads, query_len, key_len)\n",
    "        # values shape: (N, value_len, heads, heads_dim) \n",
    "        # (N, query_len, heads, head_dim)\n",
    "\n",
    "        # For demonstration purposes, we'll just return the reshaped tensors\n",
    "        return values, keys, query, energy"
   ]
  },
  {
   "cell_type": "code",
   "execution_count": 10,
   "metadata": {},
   "outputs": [
    {
     "name": "stdout",
     "output_type": "stream",
     "text": [
      "Original shapes:\n",
      "Shape of the Values: torch.Size([1, 4, 8])\n",
      "Shape of the Keys: torch.Size([1, 4, 8])\n",
      "Shape of the Query: torch.Size([1, 4, 8])\n",
      "\n",
      "Reshaped shapes:\n",
      "Reshaped Values shape: torch.Size([1, 4, 2, 4])\n",
      "Reshaped Keys shape: torch.Size([1, 4, 2, 4])\n",
      "Reshaped Query shape: torch.Size([1, 4, 2, 4])\n",
      "Shape of Energy: torch.Size([1, 2, 4, 4])\n"
     ]
    }
   ],
   "source": [
    "# Example usage\n",
    "# if __name__ == \"__main__\":\n",
    "embed_size = 8\n",
    "heads = 2\n",
    "batch_size = 1\n",
    "seq_length = 4\n",
    "\n",
    "# Create dummy data\n",
    "values = torch.randn(batch_size, seq_length, embed_size)\n",
    "keys = torch.randn(batch_size, seq_length, embed_size)\n",
    "query = torch.randn(batch_size, seq_length, embed_size)\n",
    "\n",
    "print(\"Original shapes:\")\n",
    "print(f\"Shape of the Values: {values.shape}\")\n",
    "print(f\"Shape of the Keys: {keys.shape}\")\n",
    "print(f\"Shape of the Query: {query.shape}\")\n",
    "# Create the Attention layer\n",
    "attention = Attention(embed_size, heads)\n",
    "\n",
    "# Forward pass\n",
    "reshaped_values, reshaped_keys, reshaped_query, energy = attention(values, keys, query)\n",
    "\n",
    "print(\"\\nReshaped shapes:\")\n",
    "print(\"Reshaped Values shape:\", reshaped_values.shape)\n",
    "print(\"Reshaped Keys shape:\", reshaped_keys.shape)\n",
    "print(\"Reshaped Query shape:\", reshaped_query.shape)\n",
    "print(f\"Shape of Energy: {energy.shape}\")"
   ]
  },
  {
   "cell_type": "markdown",
   "metadata": {},
   "source": [
    "### Use Einsum\n",
    "\n",
    "General Rules when using Einsum\n",
    "\n",
    "\n",
    "1.) **Repeating letters in different inputs means those values will be multiplied and those products will be the output**\n",
    "\n",
    "2.) **Omitting a letter means that axis will be summed**\n",
    "\n",
    "3.) **We can return the unsummed axes in any order that we like**"
   ]
  },
  {
   "cell_type": "code",
   "execution_count": 15,
   "metadata": {},
   "outputs": [
    {
     "data": {
      "text/plain": [
       "array([[ 36.,  42.,  48.,  26.],\n",
       "       [ 81.,  96., 111.,  56.],\n",
       "       [126., 150., 174.,  86.]])"
      ]
     },
     "execution_count": 15,
     "metadata": {},
     "output_type": "execute_result"
    }
   ],
   "source": [
    "np.random.seed(23)\n",
    "\n",
    "# A = np.random.rand(3, 3); A\n",
    "A = np.array([[1,2,3],[4,5,6],[7,8,9]]); \n",
    "B = np.array([[2,3,4,1],[5,6,7,2],[8,9,10,7]]); \n",
    "M = np.empty((3,4))\n",
    "\n",
    "for i in range(3):\n",
    "    for j in range(4):\n",
    "        total = 0\n",
    "        for k in range(3):\n",
    "            total += A[i,k] * B[k,j]\n",
    "        \n",
    "        M[i,j] = total\n",
    "        \n",
    "\n",
    "\n",
    "M"
   ]
  },
  {
   "cell_type": "code",
   "execution_count": 16,
   "metadata": {},
   "outputs": [
    {
     "data": {
      "text/plain": [
       "array([[ 36,  42,  48,  26],\n",
       "       [ 81,  96, 111,  56],\n",
       "       [126, 150, 174,  86]])"
      ]
     },
     "execution_count": 16,
     "metadata": {},
     "output_type": "execute_result"
    }
   ],
   "source": [
    "M = np.einsum('ij,jk->ik', A, B); M"
   ]
  },
  {
   "cell_type": "code",
   "execution_count": 17,
   "metadata": {},
   "outputs": [
    {
     "data": {
      "text/plain": [
       "6"
      ]
     },
     "execution_count": 17,
     "metadata": {},
     "output_type": "execute_result"
    }
   ],
   "source": [
    "x = np.array([1,2,3])\n",
    "sum_x = np.einsum('i->', x); sum_x"
   ]
  },
  {
   "cell_type": "code",
   "execution_count": 20,
   "metadata": {},
   "outputs": [
    {
     "name": "stdout",
     "output_type": "stream",
     "text": [
      "(5, 4, 3)\n",
      "(5, 4, 3)\n"
     ]
    }
   ],
   "source": [
    "x = np.ones((5,4,3))\n",
    "print(x.shape)\n",
    "np.einsum('ijk->kji', x)\n",
    "print(x.shape)"
   ]
  },
  {
   "cell_type": "code",
   "execution_count": 24,
   "metadata": {},
   "outputs": [
    {
     "data": {
      "text/plain": [
       "tensor([[0.0077, 0.8053, 0.0969],\n",
       "        [0.6909, 0.6676, 0.2297]])"
      ]
     },
     "execution_count": 24,
     "metadata": {},
     "output_type": "execute_result"
    }
   ],
   "source": [
    "x = torch.rand((2,3)); \n",
    "\n",
    "##Permutation of tensors\n",
    "# torch.einsum('ij->ji', x)\n",
    "x"
   ]
  },
  {
   "cell_type": "code",
   "execution_count": 39,
   "metadata": {},
   "outputs": [
    {
     "data": {
      "text/plain": [
       "tensor([[0.6579, 0.5652],\n",
       "        [0.5652, 0.9758]])"
      ]
     },
     "execution_count": 39,
     "metadata": {},
     "output_type": "execute_result"
    }
   ],
   "source": [
    "##Permutation of tensors\n",
    "# torch.einsum('ij->ji', x)\n",
    "\n",
    "## Summation of tensors\n",
    "# torch.einsum('ij->', x)\n",
    "\n",
    "## Column sum\n",
    "# torch.einsum('ij->j', x)\n",
    "\n",
    "## Row Sum\n",
    "# torch.einsum('ij->i', x) \n",
    "\n",
    "## Matrix vector Multiplication\n",
    "v = torch.rand((1,3))\n",
    "# torch.einsum(\"ij,kj -> ik\", x, v)\n",
    "\n",
    "## Matrix Matrix Multiplication\n",
    "torch.einsum(\"ij,kj -> ik\", x, x)"
   ]
  },
  {
   "cell_type": "code",
   "execution_count": 38,
   "metadata": {},
   "outputs": [
    {
     "data": {
      "text/plain": [
       "tensor([[0.6579, 0.5652],\n",
       "        [0.5652, 0.9758]])"
      ]
     },
     "execution_count": 38,
     "metadata": {},
     "output_type": "execute_result"
    }
   ],
   "source": [
    "x @ x.T"
   ]
  }
 ],
 "metadata": {
  "kernelspec": {
   "display_name": "Aries",
   "language": "python",
   "name": "python3"
  },
  "language_info": {
   "codemirror_mode": {
    "name": "ipython",
    "version": 3
   },
   "file_extension": ".py",
   "mimetype": "text/x-python",
   "name": "python",
   "nbconvert_exporter": "python",
   "pygments_lexer": "ipython3",
   "version": "3.12.9"
  }
 },
 "nbformat": 4,
 "nbformat_minor": 2
}
