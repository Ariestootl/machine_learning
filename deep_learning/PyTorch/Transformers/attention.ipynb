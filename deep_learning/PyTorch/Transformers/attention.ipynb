{
 "cells": [
  {
   "cell_type": "code",
   "execution_count": 2,
   "metadata": {},
   "outputs": [],
   "source": [
    "import torch\n",
    "import torch.nn as nn\n",
    "import numpy as np"
   ]
  },
  {
   "cell_type": "code",
   "execution_count": null,
   "metadata": {},
   "outputs": [],
   "source": [
    "class Attention(nn.Module):\n",
    "    '''\n",
    "    Experimental implementation of the scaled dot-product attention mechanism\n",
    "    and not yet fully implemented\n",
    "    '''\n",
    "    def __init__(self, embed_size, heads):\n",
    "        super(Attention, self).__init__()\n",
    "        self.embed_size = embed_size\n",
    "        self.heads = heads\n",
    "        self.head_dim = embed_size // heads\n",
    "\n",
    "        assert (\n",
    "            self.head_dim * heads == embed_size\n",
    "        ), \"Embed size needs to be divisible by heads\"\n",
    "\n",
    "        self.values = nn.Linear(self.head_dim, self.head_dim, bias=False)\n",
    "        self.keys = nn.Linear(self.head_dim, self.head_dim, bias=False)\n",
    "        self.queries = nn.Linear(self.head_dim, self.head_dim, bias=False)\n",
    "        self.fc_out = nn.Linear(heads * self.head_dim, embed_size)\n",
    "\n",
    "    def forward(self, values, keys, query, mask=None):\n",
    "        N = query.shape[0]\n",
    "        value_len, key_len, query_len = values.shape[1], keys.shape[1], query.shape[1]\n",
    "\n",
    "        # Split the embedding into self\n",
    "        values = values.reshape(N, value_len, self.heads, self.head_dim)\n",
    "        keys = keys.reshape(N, key_len, self.heads, self.head_dim)\n",
    "        query = query.reshape(N, query_len, self.heads, self.head_dim)\n",
    "\n",
    "        energy  = torch.einsum(\"nqhd,nkhd->nhqk\", [query, keys])\n",
    "        # queries shape: (N, query_len, heads, head_dim)\n",
    "        # keys shape: (N, key_len, heads, head_dim)\n",
    "        # energy shape: (N, heads, query_len, key_len)\n",
    "\n",
    "        if mask is not None:\n",
    "            energy = energy.masked_fill(mask == 0, float(\"-1e20\"))\n",
    "        attention = torch.softmax(energy / (self.embed_size ** (1 / 2)), dim=3)\n",
    "\n",
    "        out = torch.einsum(\"nqhd,nkhd->nhqk\", [query, keys])\n",
    "        # attention shape: (N, heads, query_len, key_len)\n",
    "        # values shape: (N, value_len, heads, heads_dim)\n",
    "        # out shape: (N, query_len, heads, head_dim)\n",
    "        \n",
    "        out = torch.einsum(\"nhql,nlhd->nqhd\", [attention, values]).reshape(\n",
    "            N, query_len, self.heads * self.head_dim\n",
    "        )\n",
    "        # attention shape: (N, heads, query_len, key_len)\n",
    "        # values shape: (N, value_len, heads, heads_dim) \n",
    "        # (N, query_len, heads, head_dim) flatten after einsum\n",
    "\n",
    "        out = self.fc_out(out)\n",
    "\n",
    "        # For demonstration purposes, we'll just return the reshaped tensors\n",
    "        return out\n",
    "\n",
    "class TransformerBlock(nn.Module):\n",
    "    def __init__(self, embed_size, heads, dropout, forward_expansion):\n",
    "        super(TransformerBlock, self).__init__()\n",
    "        self.attention = Attention(embed_size, heads)\n",
    "        self.norm1 = nn.LayerNorm(embed_size)\n",
    "        self.norm2 = nn.LayerNorm(embed_size)\n",
    "\n",
    "        self.feed_forward = nn.Sequential(\n",
    "            nn.Linear(embed_size, forward_expansion * embed_size),\n",
    "            nn.ReLU(),\n",
    "            nn.Linear(forward_expansion * embed_size, embed_size),\n",
    "        )\n",
    "        self.dropout = nn.Dropout(dropout)\n",
    "\n",
    "    def forward(self, value, key, query, mask):\n",
    "        attention = self.attention(value, key, query, mask)\n",
    "\n",
    "        # Add skip connection, run through normalization and finally dropout\n",
    "        x = self.dropout(self.norm1(attention + query))\n",
    "        forward = self.feed_forward(x)\n",
    "        out = self.dropout(self.norm2(forward + x))\n",
    "        return out\n",
    "\n",
    "class Encoder(nn.Module):\n",
    "    def __init__(self,\n",
    "                 src_vocab_size,\n",
    "                 embed_size,\n",
    "                 num_layers,\n",
    "                 heads,\n",
    "                 device,\n",
    "                 forward_expansion,\n",
    "                 dropout,\n",
    "                 max_length,\n",
    "                 ):\n",
    "        super(Encoder, self).__init__()\n",
    "        self.embed_size = embed_size\n",
    "        pass\n",
    "\n",
    "#####34:14"
   ]
  },
  {
   "cell_type": "code",
   "execution_count": 10,
   "metadata": {},
   "outputs": [
    {
     "name": "stdout",
     "output_type": "stream",
     "text": [
      "Original shapes:\n",
      "Shape of the Values: torch.Size([1, 4, 8])\n",
      "Shape of the Keys: torch.Size([1, 4, 8])\n",
      "Shape of the Query: torch.Size([1, 4, 8])\n",
      "\n",
      "Reshaped shapes:\n",
      "Reshaped Values shape: torch.Size([1, 4, 2, 4])\n",
      "Reshaped Keys shape: torch.Size([1, 4, 2, 4])\n",
      "Reshaped Query shape: torch.Size([1, 4, 2, 4])\n",
      "Shape of Energy: torch.Size([1, 2, 4, 4])\n"
     ]
    }
   ],
   "source": [
    "# Example usage\n",
    "# if __name__ == \"__main__\":\n",
    "embed_size = 8\n",
    "heads = 2\n",
    "batch_size = 1\n",
    "seq_length = 4\n",
    "\n",
    "# Create dummy data\n",
    "values = torch.randn(batch_size, seq_length, embed_size)\n",
    "keys = torch.randn(batch_size, seq_length, embed_size)\n",
    "query = torch.randn(batch_size, seq_length, embed_size)\n",
    "\n",
    "print(\"Original shapes:\")\n",
    "print(f\"Shape of the Values: {values.shape}\")\n",
    "print(f\"Shape of the Keys: {keys.shape}\")\n",
    "print(f\"Shape of the Query: {query.shape}\")\n",
    "# Create the Attention layer\n",
    "attention = Attention(embed_size, heads)\n",
    "\n",
    "# Forward pass\n",
    "reshaped_values, reshaped_keys, reshaped_query, energy = attention(values, keys, query)\n",
    "\n",
    "print(\"\\nReshaped shapes:\")\n",
    "print(\"Reshaped Values shape:\", reshaped_values.shape)\n",
    "print(\"Reshaped Keys shape:\", reshaped_keys.shape)\n",
    "print(\"Reshaped Query shape:\", reshaped_query.shape)\n",
    "print(f\"Shape of Energy: {energy.shape}\")"
   ]
  },
  {
   "cell_type": "code",
   "execution_count": null,
   "metadata": {},
   "outputs": [
    {
     "data": {
      "text/plain": [
       "array([[ 36,  42,  48,  26],\n",
       "       [ 81,  96, 111,  56],\n",
       "       [126, 150, 174,  86]])"
      ]
     },
     "execution_count": 16,
     "metadata": {},
     "output_type": "execute_result"
    }
   ],
   "source": []
  },
  {
   "cell_type": "code",
   "execution_count": null,
   "metadata": {},
   "outputs": [
    {
     "data": {
      "text/plain": [
       "6"
      ]
     },
     "execution_count": 17,
     "metadata": {},
     "output_type": "execute_result"
    }
   ],
   "source": []
  },
  {
   "cell_type": "code",
   "execution_count": 20,
   "metadata": {},
   "outputs": [
    {
     "name": "stdout",
     "output_type": "stream",
     "text": [
      "(5, 4, 3)\n",
      "(5, 4, 3)\n"
     ]
    }
   ],
   "source": [
    "x = np.ones((5,4,3))\n",
    "print(x.shape)\n",
    "np.einsum('ijk->kji', x)\n",
    "print(x.shape)"
   ]
  }
 ],
 "metadata": {
  "kernelspec": {
   "display_name": "Aries",
   "language": "python",
   "name": "python3"
  },
  "language_info": {
   "codemirror_mode": {
    "name": "ipython",
    "version": 3
   },
   "file_extension": ".py",
   "mimetype": "text/x-python",
   "name": "python",
   "nbconvert_exporter": "python",
   "pygments_lexer": "ipython3",
   "version": "3.12.9"
  }
 },
 "nbformat": 4,
 "nbformat_minor": 2
}
