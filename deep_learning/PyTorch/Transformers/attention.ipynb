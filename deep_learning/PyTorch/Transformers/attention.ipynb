{
 "cells": [
  {
   "cell_type": "code",
   "execution_count": 3,
   "metadata": {},
   "outputs": [],
   "source": [
    "import torch\n",
    "import torch.nn as nn"
   ]
  },
  {
   "cell_type": "code",
   "execution_count": 44,
   "metadata": {},
   "outputs": [],
   "source": [
    "class Attention(nn.Module):\n",
    "    def __init__(self, embed_size, heads):\n",
    "        super(Attention, self).__init__()\n",
    "        self.embed_size = embed_size\n",
    "        self.heads = heads\n",
    "        self.head_dim = embed_size // heads\n",
    "\n",
    "        assert (\n",
    "            self.head_dim * heads == embed_size\n",
    "        ), \"Embed size needs to be divisible by heads\"\n",
    "\n",
    "        self.values = nn.Linear(self.head_dim, self.head_dim, bias=False)\n",
    "        self.keys = nn.Linear(self.head_dim, self.head_dim, bias=False)\n",
    "        self.queries = nn.Linear(self.head_dim, self.head_dim, bias=False)\n",
    "        self.fc_out = nn.Linear(heads * self.head_dim, embed_size)\n",
    "\n",
    "    def forward(self, values, keys, query, mask=None):\n",
    "        N = query.shape[0]\n",
    "        value_len, key_len, query_len = values.shape[1], keys.shape[1], query.shape[1]\n",
    "\n",
    "        # Split the embedding into self\n",
    "        values = values.reshape(N, value_len, self.heads, self.head_dim)\n",
    "        keys = keys.reshape(N, key_len, self.heads, self.head_dim)\n",
    "        query = query.reshape(N, query_len, self.heads, self.head_dim)\n",
    "\n",
    "        energy  = torch.einsum(\"nqhd,nkhd->nhqk\", [query, keys])\n",
    "        # queries shape: (N, query_len, heads, head_dim)\n",
    "        # keys shape: (N, key_len, heads, head_dim)\n",
    "        # energy shape: (N, heads, query_len, key_len)\n",
    "\n",
    "        if mask is not None:\n",
    "            energy = energy.masked_fill(mask == 0, float(\"-1e20\"))\n",
    "        attention = torch.softmax(energy / (self.embed_size ** (1 / 2)), dim=3)\n",
    "\n",
    "        out = torch.einsum()\n",
    "        # attention shape: (N, heads, query_len, key_len)\n",
    "        # values shape: (N, value_len, heads, heads_dim)\n",
    "        # out shape: (N, query_len, heads, head_dim) \n",
    "\n",
    "        # For demonstration purposes, we'll just return the reshaped tensors\n",
    "        return values, keys, query, energy"
   ]
  },
  {
   "cell_type": "code",
   "execution_count": 45,
   "metadata": {},
   "outputs": [
    {
     "name": "stdout",
     "output_type": "stream",
     "text": [
      "Original shapes:\n",
      "Shape of the Values: torch.Size([1, 4, 8])\n",
      "Shape of the Keys: torch.Size([1, 4, 8])\n",
      "Shape of the Query: torch.Size([1, 4, 8])\n",
      "\n",
      "Reshaped shapes:\n",
      "Reshaped Values shape: torch.Size([1, 4, 2, 4])\n",
      "Reshaped Keys shape: torch.Size([1, 4, 2, 4])\n",
      "Reshaped Query shape: torch.Size([1, 4, 2, 4])\n",
      "Shape of Energy: torch.Size([1, 2, 4, 4])\n"
     ]
    }
   ],
   "source": [
    "# Example usage\n",
    "# if __name__ == \"__main__\":\n",
    "embed_size = 8\n",
    "heads = 2\n",
    "batch_size = 1\n",
    "seq_length = 4\n",
    "\n",
    "# Create dummy data\n",
    "values = torch.randn(batch_size, seq_length, embed_size)\n",
    "keys = torch.randn(batch_size, seq_length, embed_size)\n",
    "query = torch.randn(batch_size, seq_length, embed_size)\n",
    "\n",
    "print(\"Original shapes:\")\n",
    "print(f\"Shape of the Values: {values.shape}\")\n",
    "print(f\"Shape of the Keys: {keys.shape}\")\n",
    "print(f\"Shape of the Query: {query.shape}\")\n",
    "# Create the Attention layer\n",
    "attention = Attention(embed_size, heads)\n",
    "\n",
    "# Forward pass\n",
    "reshaped_values, reshaped_keys, reshaped_query, energy = attention(values, keys, query)\n",
    "\n",
    "print(\"\\nReshaped shapes:\")\n",
    "print(\"Reshaped Values shape:\", reshaped_values.shape)\n",
    "print(\"Reshaped Keys shape:\", reshaped_keys.shape)\n",
    "print(\"Reshaped Query shape:\", reshaped_query.shape)\n",
    "print(f\"Shape of Energy: {energy.shape}\")"
   ]
  }
 ],
 "metadata": {
  "kernelspec": {
   "display_name": "aries",
   "language": "python",
   "name": "python3"
  },
  "language_info": {
   "codemirror_mode": {
    "name": "ipython",
    "version": 3
   },
   "file_extension": ".py",
   "mimetype": "text/x-python",
   "name": "python",
   "nbconvert_exporter": "python",
   "pygments_lexer": "ipython3",
   "version": "3.12.8"
  }
 },
 "nbformat": 4,
 "nbformat_minor": 2
}
