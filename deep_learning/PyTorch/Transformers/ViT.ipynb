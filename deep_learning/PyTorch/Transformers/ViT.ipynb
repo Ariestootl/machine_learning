{
 "cells": [
  {
   "cell_type": "markdown",
   "id": "c0e6b427",
   "metadata": {},
   "source": [
    "# ``ViT`` : Vision Transformer\n",
    "\n",
    "* Reference:  "
   ]
  },
  {
   "cell_type": "code",
   "execution_count": 1,
   "id": "4298afa1",
   "metadata": {},
   "outputs": [],
   "source": [
    "import torch\n",
    "import torch.nn as nn\n",
    "import torchvision\n",
    "from torchvision import transforms\n",
    "import torchinfo\n",
    "from torchinfo import summary\n",
    "\n",
    "\n",
    "import numpy as np\n",
    "import math"
   ]
  },
  {
   "cell_type": "markdown",
   "id": "d8bdeeae",
   "metadata": {},
   "source": [
    "# The 4 equations that defines the ViT architecture\n",
    "\n",
    "* $\\mathbf{z}_{0} = \\left[\\mathbf{x}_{\\text{class}};\\mathbf{x}_{p}^{(1)}\\mathbf{E};\\mathbf{x}_{p}^{(2)}\\mathbf{E};\\dots;\\mathbf{x}_{p}^{(2)}\\mathbf{E};\\right] + \\mathbf{E}_{\\text{pos}}$, $\\mathbf{E} \\in \\mathbb{R}^{({P^{2}\\cdot C})\\times D}, \\mathbf{E}_{\\text{pos} \\in \\mathbb{R}^{(N+1)\\times D}}$\n",
    "\n",
    "* $\\mathbf{z}'_{l} = \\text{MultiHeadAttention}(\\text{LayerNorm}(\\mathbf{z}_{l-1})) + \\mathbf{z}_{l-1}$\n",
    "\n",
    "* $\\mathbf{z}_{l} = \\text{MultilayerPerceptron}(\\text{LayerNorm}(\\mathbf{z}'_{l})) + \\mathbf{z}'_{l}$\n",
    "\n",
    "* $\\mathbf{y} = \\text{LayerNorm}(\\mathbf{z}^{0}_{L})$"
   ]
  },
  {
   "cell_type": "markdown",
   "id": "f8d72d60",
   "metadata": {},
   "source": [
    "# ViT Transformer Design\n",
    "\n",
    "* Model Class uses ``torch.nn.TransformerEncoderLayer`` for the encoder part and ``torch.nn.TransformerEncoder`` to stack multiple layers of transformer encoder"
   ]
  },
  {
   "cell_type": "code",
   "execution_count": 19,
   "id": "71856be0",
   "metadata": {},
   "outputs": [],
   "source": [
    "class PatchEmbed(torch.nn.Module):\n",
    "    \"\"\"\n",
    "    Turns a 2D input image into a 1D sequence learnable embedding vector.\n",
    "    \"\"\"\n",
    "    def __init__(self,\n",
    "                 input_channels: int=3,\n",
    "                 patch_dim: int=16,\n",
    "                 embed_dim: int=768):\n",
    "        super().__init__()\n",
    "\n",
    "        self.project = nn.Conv2d(\n",
    "            in_channels=input_channels,\n",
    "            out_channels = embed_dim,\n",
    "            kernel_size = patch_dim,\n",
    "            stride=patch_dim,\n",
    "            padding = 0\n",
    "        )\n",
    "    \n",
    "        self.flatten = nn.Flatten(start_dim=2, end_dim=3)\n",
    "    \n",
    "    def forward(self, x) -> torch.Tensor:\n",
    "        x = self.project(x)\n",
    "        x = self.flatten(x)\n",
    "        x = x.permute(0,2,1)\n",
    "        return x\n",
    "\n",
    "    ### Alternative below from the above    \n",
    "    # def forward(self, x) -> torch.Tensor:\n",
    "    #     x = self.patch(x)\n",
    "    #     x = x.flatten(2)\n",
    "    #     x = x.transpose(1,2)\n",
    "    #     return x\n",
    "\n",
    "class VisionTransformer(torch.nn.Module):\n",
    "    def __init__(self,\n",
    "                 img_dim=224,\n",
    "                 number_of_channels=3,\n",
    "                 patch_size=16,\n",
    "                 embed_dim=512,\n",
    "                 dropout=0.1,\n",
    "                 mlp_size=3072,\n",
    "                 number_of_transformerlayers=12,\n",
    "                 number_of_heads=8,\n",
    "                 number_of_classes=10):\n",
    "        super().__init__()\n",
    "        self.img_dim = img_dim\n",
    "        self.patch_size = patch_size\n",
    "\n",
    "        assert img_dim % patch_size == 0\n",
    "\n",
    "        #### Create Patch Embedding\n",
    "        self.patch_embed = PatchEmbed(\n",
    "            input_channels=number_of_channels,\n",
    "            patch_dim=patch_size,\n",
    "            embed_dim=embed_dim\n",
    "        )\n",
    "\n",
    "        ### Create class token\n",
    "        self.class_token = torch.nn.Parameter(torch.randn(1,1, embed_dim),\n",
    "                                              requires_grad=True)\n",
    "\n",
    "        ### Positional Embedding\n",
    "        num_patches = (img_dim * img_dim) // patch_size**2 ### --> Section 3.1 ViT paper\n",
    "        self.position_embed = torch.nn.Parameter(torch.randn(1, num_patches + 1, embed_dim))\n",
    "\n",
    "        ### Create patch + position embedding dropout\n",
    "        self.embedding_dropout = torch.nn.Dropout(p=dropout)\n",
    "\n",
    "        ### Create transformer Encoder Layer (single)\n",
    "        self.transformer_encoder_layer = torch.nn.TransformerEncoderLayer(\n",
    "            d_model=embed_dim,\n",
    "            nhead=number_of_heads,\n",
    "            dim_feedforward=mlp_size,\n",
    "            dropout=dropout,\n",
    "            activation='gelu',\n",
    "            batch_first=True,\n",
    "            norm_first=True)\n",
    "        \n",
    "        ### Stack transformer encoder layers\n",
    "        self.transformer_encoder = torch.nn.TransformerEncoder(\n",
    "            encoder_layer = self.transformer_encoder_layer,\n",
    "            num_layers=number_of_transformerlayers\n",
    "        )\n",
    "\n",
    "\n",
    "        ### Create MLP Head\n",
    "        self.MLP_head = torch.nn.Sequential(\n",
    "            nn.LayerNorm(normalized_shape=embed_dim),\n",
    "            nn.Linear(in_features=embed_dim,\n",
    "                      out_features=number_of_classes)\n",
    "        )\n",
    "    \n",
    "    def forward(self, x) -> torch.Tensor:\n",
    "        \n",
    "        batch_size = x.shape[0]\n",
    "\n",
    "        num_patches = (self.img_dim * self.img_dim) // self.patch_size**2\n",
    "        if self.position_embed.shape[1] != (num_patches + 1):\n",
    "            self.position_embed = torch.nn.Parameter(\n",
    "                torch.randn(1, num_patches + 1, x.size(-1)),\n",
    "                requires_grad=True\n",
    "            )\n",
    "        x = self.patch_embed(x)\n",
    "        print(x.shape)\n",
    "        class_token = self.class_token.expand(batch_size,-1,-1)\n",
    "        x = torch.cat((class_token, x), dim=1)\n",
    "        print(f\"{x.shape}\")\n",
    "\n",
    "        x = x + self.position_embed[:, :x.size(1), :]\n",
    "\n",
    "        x = self.embedding_dropout(x)\n",
    "        x = self.transformer_encoder(x)\n",
    "        x = self.MLP_head(x[:, 0])\n",
    "        return x"
   ]
  },
  {
   "cell_type": "markdown",
   "id": "7b81fdd4",
   "metadata": {},
   "source": [
    "## Dummy Test for the Patch Embedding\n",
    "\n"
   ]
  },
  {
   "cell_type": "code",
   "execution_count": 34,
   "id": "7bb4d1a2",
   "metadata": {},
   "outputs": [
    {
     "name": "stdout",
     "output_type": "stream",
     "text": [
      "torch.Size([2, 3, 128, 128])\n",
      "torch.Size([2, 64, 768])\n"
     ]
    }
   ],
   "source": [
    "img = torch.randn(size=(1,128,128)).unsqueeze(0)\n",
    "img3 = torch.randn(size=(2,3,128,128))\n",
    "img4 = torch.randn(size=(3,3,224,224))\n",
    "patchify = PatchEmbed(input_channels=3,\n",
    "                      patch_dim=16,\n",
    "                      embed_dim=768\n",
    "                      )\n",
    "embed = patchify(img3)\n",
    "print(f\"{img3.shape}\")\n",
    "print(f\"{embed.shape}\")\n",
    "# print(f\"{embed}\")\n"
   ]
  },
  {
   "cell_type": "markdown",
   "id": "a08703f8",
   "metadata": {},
   "source": [
    "## Testing on Dummy Data"
   ]
  },
  {
   "cell_type": "code",
   "execution_count": 31,
   "id": "a50b6a70",
   "metadata": {},
   "outputs": [
    {
     "name": "stdout",
     "output_type": "stream",
     "text": [
      "torch.Size([2, 3, 128, 128])\n",
      "torch.Size([4, 9, 256])\n",
      "torch.Size([4, 10, 256])\n"
     ]
    },
    {
     "data": {
      "text/plain": [
       "tensor([[-0.2980,  0.4789, -0.2882],\n",
       "        [ 0.0851, -0.1581, -0.6242],\n",
       "        [ 0.0176, -0.2377, -0.4942],\n",
       "        [-0.5732,  0.1085, -0.3220]], grad_fn=<AddmmBackward0>)"
      ]
     },
     "execution_count": 31,
     "metadata": {},
     "output_type": "execute_result"
    }
   ],
   "source": [
    "print(img3.shape)\n",
    "ViT = VisionTransformer(number_of_classes=3, embed_dim=256)\n",
    "ViT(torch.randn(size=(4,3,50,50)))"
   ]
  }
 ],
 "metadata": {
  "kernelspec": {
   "display_name": "Aries",
   "language": "python",
   "name": "python3"
  },
  "language_info": {
   "codemirror_mode": {
    "name": "ipython",
    "version": 3
   },
   "file_extension": ".py",
   "mimetype": "text/x-python",
   "name": "python",
   "nbconvert_exporter": "python",
   "pygments_lexer": "ipython3",
   "version": "3.11.11"
  }
 },
 "nbformat": 4,
 "nbformat_minor": 5
}
